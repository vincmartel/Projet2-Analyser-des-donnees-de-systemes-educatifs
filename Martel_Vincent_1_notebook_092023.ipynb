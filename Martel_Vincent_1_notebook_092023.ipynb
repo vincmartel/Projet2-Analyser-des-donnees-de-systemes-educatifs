{
 "cells": [
  {
   "cell_type": "markdown",
   "id": "f5b7a7b9",
   "metadata": {},
   "source": [
    "# Projet 2 - Analysez des données de systèmes éducatifs"
   ]
  },
  {
   "cell_type": "markdown",
   "id": "ac28fd72",
   "metadata": {},
   "source": [
    "# Sommaire:\n",
    "  \n",
    "- <a href=\"#C0\">Introduction</a>\n",
    " \n",
    "**Partie 1: Nettoyage du jeu de données**\n",
    "- <a href=\"#C0\">1.0 Mise en place environnement Python</a>\n",
    "- <a href=\"#C1\">1.1 Importation du jeu de données</a>\n",
    "- <a href=\"#C2\">1.2 Description du jeu de données</a>\n",
    "- <a href=\"#C3\">1.3 Qualité du jeu de données - valeurs manquantes</a>\n",
    "- <a href=\"#C4\">1.4 Qualité du jeu de données - doublons</a>\n",
    "- <a href=\"#C5\">1.5 Choix des variables</a>\n",
    "- <a href=\"#C6\">1.6 Filtrage des variables choisies</a>\n",
    "- <a href=\"#C7\">1.7 Fusion des données filtrées</a>\n",
    "- <a href=\"#C8\">1.8 Validation des données nettoyées</a>\n",
    "\n",
    "**Partie 2: Analyse exploratoire du jeu de données**\n",
    " \n",
    "- <a href=\"#C11\">2.1 Analyse univariée</a>\n",
    "  - <a href=\"#C111\">2.1.1 Variable Internet</a>\n",
    "  - <a href=\"#C112\">2.1.2 Variable Population15to24</a>\n",
    "  - <a href=\"#C113\">2.1.3 Variable Enrolment_Secondary</a>\n",
    "  - <a href=\"#C114\">2.1.4 Variable Enrolment_Tertiary</a>\n",
    "  - <a href=\"#C115\">2.1.5 Variable PIB_hab</a>\n",
    "- <a href=\"#C12\">2.2 Détection et traitement des outliers</a>\n",
    "  - <a href=\"#C121\">2.2.1 Approche statistique (méthode interquartile)</a>\n",
    "  - <a href=\"#C122\">2.2.2 Approche métier</a>        \n",
    "- <a href=\"#C13\">2.3 Représentation graphique des distributions</a>\n",
    "- <a href=\"#C14\">2.4 Calcul d'un score d'attractivité par pays</a>\n",
    "    \n"
   ]
  },
  {
   "cell_type": "markdown",
   "id": "79656f7e",
   "metadata": {},
   "source": [
    "# <a name=\"C0\">Introduction</a>\n",
    "\n",
    "Academy propose des contenus de formation en ligne pour un public de niveau lycée et université.\n",
    "\n",
    "Le but de cette analyse exploratoire est de vérifier si les données proposées sont exploitables et si elles permettent d'identifier les pays les plus adaptés à un développement commercial à l'international.\n",
    "\n",
    "Au préalable, un nettoyage du jeu de données est nécessaire."
   ]
  },
  {
   "cell_type": "markdown",
   "id": "29bc7bb4",
   "metadata": {},
   "source": [
    "# <a name=\"C0\">1.0: Mise en place environnement Python</a> "
   ]
  },
  {
   "cell_type": "markdown",
   "id": "d5f921b7",
   "metadata": {},
   "source": [
    "Depuis le terminal:\n",
    "    \n",
    "    - Un environnement virtuel \"Projet2\" a été créé et activé pour assurer l’isolement du projet et la gestion des dépendances.\n",
    "    - Le package Missingno a été installé avec pip\n",
    "    - Les versions des packages installés ont été vérifiées avec pip list"
   ]
  },
  {
   "cell_type": "markdown",
   "id": "290beee1",
   "metadata": {},
   "source": [
    "Importation des librairies numpy, Pandas, Pyplot, Missingno et stats"
   ]
  },
  {
   "cell_type": "code",
   "execution_count": 88,
   "id": "8a130fc0",
   "metadata": {},
   "outputs": [],
   "source": [
    "import numpy as np\n",
    "import pandas as pd\n",
    "import matplotlib.pyplot as plt\n",
    "import missingno as msno\n",
    "from scipy import stats"
   ]
  },
  {
   "cell_type": "markdown",
   "id": "0cbf6af1",
   "metadata": {},
   "source": [
    "# <a name=\"C1\">1.1: Importation du jeu de données</a>"
   ]
  },
  {
   "cell_type": "markdown",
   "id": "fc00be28",
   "metadata": {},
   "source": [
    "Les données récupérées sur le site de la banque mondiale comportent par pays, plus de 4000 indicateurs relatifs à l'éducation qui décrivent entre autre\n",
    "l'accès à l’éducation, l'alphabétisation, les enseignants, la population ...\n",
    "    \n",
    "Les indicateurs couvrent le cycle de l’éducation de la maternelle à l’enseignement supérieur.\n",
    "\n",
    "Ces données sont regroupées dans 5 fichiers:\n",
    "    \n",
    "    - Fichier 1: EdStatsCountry.csv\n",
    "    - Fichier 2: EdStatsCountry-Series.csv\n",
    "    - Fichier 3: EdStatsData.csv\n",
    "    - Fichier 4: EdStatsFootNote.csv\n",
    "    - Fichier 5: EdStatsSeries.csv"
   ]
  },
  {
   "cell_type": "code",
   "execution_count": 89,
   "id": "01a4056e",
   "metadata": {},
   "outputs": [],
   "source": [
    "# importation des 5 fichiers csv - création de 5 dataframes:\n",
    "EdStatsCountry=pd.read_csv('EdStatsCountry.csv')\n",
    "EdStatsCountrySeries=pd.read_csv('EdStatsCountry-series.csv')\n",
    "EdStatsData=pd.read_csv('EdStatsData.csv')\n",
    "EdStatsFootNote=pd.read_csv('EdStatsFootNote.csv')\n",
    "EdStatsSeries=pd.read_csv('EdStatsSeries.csv')"
   ]
  },
  {
   "cell_type": "markdown",
   "id": "8da7aa9f",
   "metadata": {},
   "source": [
    "# <a name=\"C2\">1.2 Description du jeu de données</a>"
   ]
  },
  {
   "cell_type": "markdown",
   "id": "2131a2e4",
   "metadata": {},
   "source": [
    "Affichons le nombre de lignes et de colonnes des dataframes sous forme de tableau:"
   ]
  },
  {
   "cell_type": "code",
   "execution_count": 90,
   "id": "85fd15ef",
   "metadata": {},
   "outputs": [
    {
     "data": {
      "text/html": [
       "<div>\n",
       "<style scoped>\n",
       "    .dataframe tbody tr th:only-of-type {\n",
       "        vertical-align: middle;\n",
       "    }\n",
       "\n",
       "    .dataframe tbody tr th {\n",
       "        vertical-align: top;\n",
       "    }\n",
       "\n",
       "    .dataframe thead th {\n",
       "        text-align: right;\n",
       "    }\n",
       "</style>\n",
       "<table border=\"1\" class=\"dataframe\">\n",
       "  <thead>\n",
       "    <tr style=\"text-align: right;\">\n",
       "      <th></th>\n",
       "      <th>Fichier</th>\n",
       "      <th>Nb de lignes</th>\n",
       "      <th>Nb de colonnes</th>\n",
       "    </tr>\n",
       "  </thead>\n",
       "  <tbody>\n",
       "    <tr>\n",
       "      <th>0</th>\n",
       "      <td>EdStatsCountry</td>\n",
       "      <td>241</td>\n",
       "      <td>32</td>\n",
       "    </tr>\n",
       "    <tr>\n",
       "      <th>1</th>\n",
       "      <td>EdStatsCountrySeries</td>\n",
       "      <td>613</td>\n",
       "      <td>4</td>\n",
       "    </tr>\n",
       "    <tr>\n",
       "      <th>2</th>\n",
       "      <td>EdStatsData</td>\n",
       "      <td>886930</td>\n",
       "      <td>70</td>\n",
       "    </tr>\n",
       "    <tr>\n",
       "      <th>3</th>\n",
       "      <td>EdStatsFootNote</td>\n",
       "      <td>643638</td>\n",
       "      <td>5</td>\n",
       "    </tr>\n",
       "    <tr>\n",
       "      <th>4</th>\n",
       "      <td>EdStatsSeries</td>\n",
       "      <td>3665</td>\n",
       "      <td>21</td>\n",
       "    </tr>\n",
       "  </tbody>\n",
       "</table>\n",
       "</div>"
      ],
      "text/plain": [
       "                Fichier  Nb de lignes  Nb de colonnes\n",
       "0        EdStatsCountry           241              32\n",
       "1  EdStatsCountrySeries           613               4\n",
       "2           EdStatsData        886930              70\n",
       "3       EdStatsFootNote        643638               5\n",
       "4         EdStatsSeries          3665              21"
      ]
     },
     "metadata": {},
     "output_type": "display_data"
    }
   ],
   "source": [
    "Fichier=['EdStatsCountry','EdStatsCountrySeries','EdStatsData','EdStatsFootNote','EdStatsSeries']\n",
    "Dataframes=[EdStatsCountry,EdStatsCountrySeries,EdStatsData,EdStatsFootNote,EdStatsSeries]\n",
    "NbLignes=[]\n",
    "NbColonnes=[]\n",
    "for df in Dataframes:\n",
    "    NbLignes.append(df.shape[0])\n",
    "    NbColonnes.append(df.shape[1])\n",
    "\n",
    "data = {'Fichier': Fichier,\n",
    "        'Nb de lignes': NbLignes,\n",
    "        'Nb de colonnes': NbColonnes}    \n",
    "result = pd.DataFrame(data)   #création du dataframe data à partir du dictionnaire data\n",
    "display(result)               # affichage du résultat sous forme de tableau"
   ]
  },
  {
   "cell_type": "markdown",
   "id": "85bcff3f",
   "metadata": {},
   "source": [
    "La plus grande partie des données pertinentes se trouve dans le fichier EdStatsData.csv"
   ]
  },
  {
   "cell_type": "markdown",
   "id": "925c726a",
   "metadata": {},
   "source": [
    "# <a name=\"C3\">1.3 Qualité du jeu de données - valeurs manquantes</a>"
   ]
  },
  {
   "cell_type": "markdown",
   "id": "ca9d24e0",
   "metadata": {},
   "source": [
    "Utilisation de la bibliothèque **missingno** pour visualiser la distribution des valeurs manquantes."
   ]
  },
  {
   "cell_type": "code",
   "execution_count": 91,
   "id": "ee740dfa",
   "metadata": {},
   "outputs": [
    {
     "data": {
      "image/png": "[encoded data removed]",
      "text/plain": [
       "<Figure size 600x300 with 3 Axes>"
      ]
     },
     "metadata": {},
     "output_type": "display_data"
    }
   ],
   "source": [
    "fig, ax = plt.subplots(figsize=(6,3))\n",
    "msno.bar(EdStatsCountry, color=\"green\", ax=ax, fontsize=8)\n",
    "ax.set_title(\"EdStatsCountry\")\n",
    "ax.title.set_color('blue')\n",
    "ax.title.set_size(20)\n",
    "ax.set_ylabel(\"Distribution valeurs présentes/manquantes\")\n",
    "plt.show()"
   ]
  },
  {
   "cell_type": "code",
   "execution_count": 92,
   "id": "9d5b5163",
   "metadata": {},
   "outputs": [
    {
     "data": {
      "image/png": "[encoded data removed]",
      "text/plain": [
       "<Figure size 600x300 with 3 Axes>"
      ]
     },
     "metadata": {},
     "output_type": "display_data"
    }
   ],
   "source": [
    "fig, ax = plt.subplots(figsize=(6,3))\n",
    "msno.bar(EdStatsCountrySeries, color=\"green\", ax=ax, fontsize=8)\n",
    "ax.set_title(\"EdStatsCountrySeries\")\n",
    "ax.title.set_size(20)\n",
    "ax.title.set_color('blue')\n",
    "ax.set_ylabel(\"Distribution valeurs présentes/manquantes\")\n",
    "plt.show()"
   ]
  },
  {
   "cell_type": "code",
   "execution_count": 93,
   "id": "be693d9a",
   "metadata": {},
   "outputs": [
    {
     "data": {
      "image/png": "[encoded data removed]",
      "text/plain": [
       "<Figure size 600x800 with 3 Axes>"
      ]
     },
     "metadata": {},
     "output_type": "display_data"
    }
   ],
   "source": [
    "fig, ax = plt.subplots(figsize=(6,8))\n",
    "msno.bar(EdStatsData, color=\"green\", ax=ax, fontsize=6)\n",
    "ax.set_title(\"EdStatsData\")\n",
    "ax.title.set_color('blue')\n",
    "ax.title.set_size(20)\n",
    "ax.set_xlabel(\"Nombre de valeurs présentes/manquantes\")\n",
    "ax.set_ylabel(\"Variables\")\n",
    "plt.show()"
   ]
  },
  {
   "cell_type": "code",
   "execution_count": 94,
   "id": "c8d486b3",
   "metadata": {},
   "outputs": [
    {
     "data": {
      "image/png": "[encoded data removed]",
      "text/plain": [
       "<Figure size 600x300 with 3 Axes>"
      ]
     },
     "metadata": {},
     "output_type": "display_data"
    }
   ],
   "source": [
    "fig, ax = plt.subplots(figsize=(6,3))\n",
    "msno.bar(EdStatsFootNote, color=\"green\", ax=ax, fontsize=8)\n",
    "ax.set_title(\"EdStatsFootNote\")\n",
    "ax.title.set_size(20)\n",
    "ax.title.set_color('blue')\n",
    "ax.set_ylabel(\"Distribution valeurs présentes/manquantes\")\n",
    "plt.show()"
   ]
  },
  {
   "cell_type": "code",
   "execution_count": 95,
   "id": "25709469",
   "metadata": {},
   "outputs": [
    {
     "data": {
      "image/png": "[encoded data removed]",
      "text/plain": [
       "<Figure size 600x300 with 3 Axes>"
      ]
     },
     "metadata": {},
     "output_type": "display_data"
    }
   ],
   "source": [
    "fig, ax = plt.subplots(figsize=(6,3))\n",
    "msno.bar(EdStatsSeries, color=\"green\", ax=ax, fontsize=8)\n",
    "ax.set_title(\"EdStatsSeries\")\n",
    "ax.title.set_size(20)\n",
    "ax.title.set_color('blue')\n",
    "ax.set_ylabel(\"Distribution valeurs présentes/manquantes\")\n",
    "plt.show()"
   ]
  },
  {
   "cell_type": "markdown",
   "id": "4a372571",
   "metadata": {},
   "source": [
    "<u>**Conclusion</u>**:\n",
    "\n",
    "**EdstatsData**, le dataframe qui contient le plus de données pertinentes pour notre étude comporte de **très nombreuses valeurs manquantes.**                                                         \n",
    "Un traitement de ces erreurs est décrit dans la partie 1.6 (Filtrage des variables choisies)"
   ]
  },
  {
   "cell_type": "markdown",
   "id": "b3fafab8",
   "metadata": {},
   "source": [
    "# <a name=\"C4\">1.4 Qualité du jeu de données - doublons</a>"
   ]
  },
  {
   "cell_type": "markdown",
   "id": "5a55214e",
   "metadata": {},
   "source": [
    "Pour vérifier la présence de doublons au sein de nos dataframes, nous devons d'abord identifier quelles sont les variables ou ensembles de\n",
    "variables qui ne devraient pas être doublés pour chaque dataframe."
   ]
  },
  {
   "cell_type": "markdown",
   "id": "108d19ba",
   "metadata": {},
   "source": [
    "### 1. EdStatsCountry: \n",
    "La variable 'Country Code' devrait être unique. "
   ]
  },
  {
   "cell_type": "code",
   "execution_count": 96,
   "id": "eb273a44",
   "metadata": {},
   "outputs": [
    {
     "data": {
      "text/html": [
       "<div>\n",
       "<style scoped>\n",
       "    .dataframe tbody tr th:only-of-type {\n",
       "        vertical-align: middle;\n",
       "    }\n",
       "\n",
       "    .dataframe tbody tr th {\n",
       "        vertical-align: top;\n",
       "    }\n",
       "\n",
       "    .dataframe thead th {\n",
       "        text-align: right;\n",
       "    }\n",
       "</style>\n",
       "<table border=\"1\" class=\"dataframe\">\n",
       "  <thead>\n",
       "    <tr style=\"text-align: right;\">\n",
       "      <th></th>\n",
       "      <th>Country Code</th>\n",
       "      <th>Short Name</th>\n",
       "      <th>Table Name</th>\n",
       "      <th>Long Name</th>\n",
       "      <th>2-alpha code</th>\n",
       "      <th>Currency Unit</th>\n",
       "      <th>Special Notes</th>\n",
       "      <th>Region</th>\n",
       "      <th>Income Group</th>\n",
       "      <th>WB-2 code</th>\n",
       "      <th>...</th>\n",
       "      <th>IMF data dissemination standard</th>\n",
       "      <th>Latest population census</th>\n",
       "      <th>Latest household survey</th>\n",
       "      <th>Source of most recent Income and expenditure data</th>\n",
       "      <th>Vital registration complete</th>\n",
       "      <th>Latest agricultural census</th>\n",
       "      <th>Latest industrial data</th>\n",
       "      <th>Latest trade data</th>\n",
       "      <th>Latest water withdrawal data</th>\n",
       "      <th>Unnamed: 31</th>\n",
       "    </tr>\n",
       "  </thead>\n",
       "  <tbody>\n",
       "  </tbody>\n",
       "</table>\n",
       "<p>0 rows × 32 columns</p>\n",
       "</div>"
      ],
      "text/plain": [
       "Empty DataFrame\n",
       "Columns: [Country Code, Short Name, Table Name, Long Name, 2-alpha code, Currency Unit, Special Notes, Region, Income Group, WB-2 code, National accounts base year, National accounts reference year, SNA price valuation, Lending category, Other groups, System of National Accounts, Alternative conversion factor, PPP survey year, Balance of Payments Manual in use, External debt Reporting status, System of trade, Government Accounting concept, IMF data dissemination standard, Latest population census, Latest household survey, Source of most recent Income and expenditure data, Vital registration complete, Latest agricultural census, Latest industrial data, Latest trade data, Latest water withdrawal data, Unnamed: 31]\n",
       "Index: []\n",
       "\n",
       "[0 rows x 32 columns]"
      ]
     },
     "execution_count": 96,
     "metadata": {},
     "output_type": "execute_result"
    }
   ],
   "source": [
    "EdStatsCountry.loc[EdStatsCountry['Country Code'].duplicated(keep=False),:]"
   ]
  },
  {
   "cell_type": "markdown",
   "id": "d84480bc",
   "metadata": {},
   "source": [
    "### 2. EdStatsCountrySeries: \n",
    "Sur les variables ['CountryCode','SeriesCode'], il n'est normalement pas possible d'avoir des doublons"
   ]
  },
  {
   "cell_type": "code",
   "execution_count": 97,
   "id": "cfedca5a",
   "metadata": {},
   "outputs": [
    {
     "data": {
      "text/html": [
       "<div>\n",
       "<style scoped>\n",
       "    .dataframe tbody tr th:only-of-type {\n",
       "        vertical-align: middle;\n",
       "    }\n",
       "\n",
       "    .dataframe tbody tr th {\n",
       "        vertical-align: top;\n",
       "    }\n",
       "\n",
       "    .dataframe thead th {\n",
       "        text-align: right;\n",
       "    }\n",
       "</style>\n",
       "<table border=\"1\" class=\"dataframe\">\n",
       "  <thead>\n",
       "    <tr style=\"text-align: right;\">\n",
       "      <th></th>\n",
       "      <th>CountryCode</th>\n",
       "      <th>SeriesCode</th>\n",
       "      <th>DESCRIPTION</th>\n",
       "      <th>Unnamed: 3</th>\n",
       "    </tr>\n",
       "  </thead>\n",
       "  <tbody>\n",
       "  </tbody>\n",
       "</table>\n",
       "</div>"
      ],
      "text/plain": [
       "Empty DataFrame\n",
       "Columns: [CountryCode, SeriesCode, DESCRIPTION, Unnamed: 3]\n",
       "Index: []"
      ]
     },
     "execution_count": 97,
     "metadata": {},
     "output_type": "execute_result"
    }
   ],
   "source": [
    "EdStatsCountrySeries.loc[EdStatsCountrySeries[['CountryCode','SeriesCode']].duplicated(keep=False),:]"
   ]
  },
  {
   "cell_type": "markdown",
   "id": "e8fe161c",
   "metadata": {},
   "source": [
    "### 3. EdStatsData: \n",
    "Sur les variables ['Country Code','Indicator Code'], il n'est normalement pas possible d'avoir des doublons"
   ]
  },
  {
   "cell_type": "code",
   "execution_count": 98,
   "id": "b05ff97c",
   "metadata": {},
   "outputs": [
    {
     "data": {
      "text/html": [
       "<div>\n",
       "<style scoped>\n",
       "    .dataframe tbody tr th:only-of-type {\n",
       "        vertical-align: middle;\n",
       "    }\n",
       "\n",
       "    .dataframe tbody tr th {\n",
       "        vertical-align: top;\n",
       "    }\n",
       "\n",
       "    .dataframe thead th {\n",
       "        text-align: right;\n",
       "    }\n",
       "</style>\n",
       "<table border=\"1\" class=\"dataframe\">\n",
       "  <thead>\n",
       "    <tr style=\"text-align: right;\">\n",
       "      <th></th>\n",
       "      <th>Country Name</th>\n",
       "      <th>Country Code</th>\n",
       "      <th>Indicator Name</th>\n",
       "      <th>Indicator Code</th>\n",
       "      <th>1970</th>\n",
       "      <th>1971</th>\n",
       "      <th>1972</th>\n",
       "      <th>1973</th>\n",
       "      <th>1974</th>\n",
       "      <th>1975</th>\n",
       "      <th>...</th>\n",
       "      <th>2060</th>\n",
       "      <th>2065</th>\n",
       "      <th>2070</th>\n",
       "      <th>2075</th>\n",
       "      <th>2080</th>\n",
       "      <th>2085</th>\n",
       "      <th>2090</th>\n",
       "      <th>2095</th>\n",
       "      <th>2100</th>\n",
       "      <th>Unnamed: 69</th>\n",
       "    </tr>\n",
       "  </thead>\n",
       "  <tbody>\n",
       "  </tbody>\n",
       "</table>\n",
       "<p>0 rows × 70 columns</p>\n",
       "</div>"
      ],
      "text/plain": [
       "Empty DataFrame\n",
       "Columns: [Country Name, Country Code, Indicator Name, Indicator Code, 1970, 1971, 1972, 1973, 1974, 1975, 1976, 1977, 1978, 1979, 1980, 1981, 1982, 1983, 1984, 1985, 1986, 1987, 1988, 1989, 1990, 1991, 1992, 1993, 1994, 1995, 1996, 1997, 1998, 1999, 2000, 2001, 2002, 2003, 2004, 2005, 2006, 2007, 2008, 2009, 2010, 2011, 2012, 2013, 2014, 2015, 2016, 2017, 2020, 2025, 2030, 2035, 2040, 2045, 2050, 2055, 2060, 2065, 2070, 2075, 2080, 2085, 2090, 2095, 2100, Unnamed: 69]\n",
       "Index: []\n",
       "\n",
       "[0 rows x 70 columns]"
      ]
     },
     "execution_count": 98,
     "metadata": {},
     "output_type": "execute_result"
    }
   ],
   "source": [
    "EdStatsData.loc[EdStatsData[['Country Code','Indicator Code']].duplicated(keep=False),:]"
   ]
  },
  {
   "cell_type": "markdown",
   "id": "b6294415",
   "metadata": {},
   "source": [
    "### 4. EdStatsFootNote: \n",
    "Sur les variables [['CountryCode','SeriesCode','Year']], il n'est normalement pas possible d'avoir des doublons"
   ]
  },
  {
   "cell_type": "code",
   "execution_count": 99,
   "id": "47683ad8",
   "metadata": {},
   "outputs": [
    {
     "data": {
      "text/html": [
       "<div>\n",
       "<style scoped>\n",
       "    .dataframe tbody tr th:only-of-type {\n",
       "        vertical-align: middle;\n",
       "    }\n",
       "\n",
       "    .dataframe tbody tr th {\n",
       "        vertical-align: top;\n",
       "    }\n",
       "\n",
       "    .dataframe thead th {\n",
       "        text-align: right;\n",
       "    }\n",
       "</style>\n",
       "<table border=\"1\" class=\"dataframe\">\n",
       "  <thead>\n",
       "    <tr style=\"text-align: right;\">\n",
       "      <th></th>\n",
       "      <th>CountryCode</th>\n",
       "      <th>SeriesCode</th>\n",
       "      <th>Year</th>\n",
       "      <th>DESCRIPTION</th>\n",
       "      <th>Unnamed: 4</th>\n",
       "    </tr>\n",
       "  </thead>\n",
       "  <tbody>\n",
       "  </tbody>\n",
       "</table>\n",
       "</div>"
      ],
      "text/plain": [
       "Empty DataFrame\n",
       "Columns: [CountryCode, SeriesCode, Year, DESCRIPTION, Unnamed: 4]\n",
       "Index: []"
      ]
     },
     "execution_count": 99,
     "metadata": {},
     "output_type": "execute_result"
    }
   ],
   "source": [
    "EdStatsFootNote.loc[EdStatsFootNote[['CountryCode','SeriesCode','Year']].duplicated(keep=False),:]"
   ]
  },
  {
   "cell_type": "markdown",
   "id": "af33f937",
   "metadata": {},
   "source": [
    "### 5. EdStatsSeries: \n",
    "La variable 'Series Code' devrait être unique."
   ]
  },
  {
   "cell_type": "code",
   "execution_count": 100,
   "id": "9e2407ab",
   "metadata": {},
   "outputs": [
    {
     "data": {
      "text/html": [
       "<div>\n",
       "<style scoped>\n",
       "    .dataframe tbody tr th:only-of-type {\n",
       "        vertical-align: middle;\n",
       "    }\n",
       "\n",
       "    .dataframe tbody tr th {\n",
       "        vertical-align: top;\n",
       "    }\n",
       "\n",
       "    .dataframe thead th {\n",
       "        text-align: right;\n",
       "    }\n",
       "</style>\n",
       "<table border=\"1\" class=\"dataframe\">\n",
       "  <thead>\n",
       "    <tr style=\"text-align: right;\">\n",
       "      <th></th>\n",
       "      <th>Series Code</th>\n",
       "      <th>Topic</th>\n",
       "      <th>Indicator Name</th>\n",
       "      <th>Short definition</th>\n",
       "      <th>Long definition</th>\n",
       "      <th>Unit of measure</th>\n",
       "      <th>Periodicity</th>\n",
       "      <th>Base Period</th>\n",
       "      <th>Other notes</th>\n",
       "      <th>Aggregation method</th>\n",
       "      <th>...</th>\n",
       "      <th>Notes from original source</th>\n",
       "      <th>General comments</th>\n",
       "      <th>Source</th>\n",
       "      <th>Statistical concept and methodology</th>\n",
       "      <th>Development relevance</th>\n",
       "      <th>Related source links</th>\n",
       "      <th>Other web links</th>\n",
       "      <th>Related indicators</th>\n",
       "      <th>License Type</th>\n",
       "      <th>Unnamed: 20</th>\n",
       "    </tr>\n",
       "  </thead>\n",
       "  <tbody>\n",
       "  </tbody>\n",
       "</table>\n",
       "<p>0 rows × 21 columns</p>\n",
       "</div>"
      ],
      "text/plain": [
       "Empty DataFrame\n",
       "Columns: [Series Code, Topic, Indicator Name, Short definition, Long definition, Unit of measure, Periodicity, Base Period, Other notes, Aggregation method, Limitations and exceptions, Notes from original source, General comments, Source, Statistical concept and methodology, Development relevance, Related source links, Other web links, Related indicators, License Type, Unnamed: 20]\n",
       "Index: []\n",
       "\n",
       "[0 rows x 21 columns]"
      ]
     },
     "execution_count": 100,
     "metadata": {},
     "output_type": "execute_result"
    }
   ],
   "source": [
    "EdStatsSeries.loc[EdStatsSeries['Series Code'].duplicated(keep=False),:]"
   ]
  },
  {
   "cell_type": "markdown",
   "id": "58eab306",
   "metadata": {},
   "source": [
    "<u>**Conclusion:**</u> \n",
    "\n",
    "**Pas de doublons dans le jeu de données importé**"
   ]
  },
  {
   "cell_type": "markdown",
   "id": "90e40851",
   "metadata": {},
   "source": [
    "# <a name=\"C5\">1.5 Choix des variables</a>\n",
    "\n",
    "Afin d'identifier les pays les plus pertinents pour le développement commercial d'Academy, les 5 variables suivantes sont sélectionnées,\n",
    "parmi les plus de 4000 indicateurs d'EdStats décrits sur le site de la banque mondiale.\n",
    " \n",
    "            \n",
    "|  Indicator Name                                          | Indicator Code       | Description                                                       | Justification |\n",
    "|----------------------------------------------------------|----------------------|-------------------------------------------------------------------|-------------- |\n",
    "| **Internet users (per 100 people)**                      | IT.NET.USER.P2       |Nombre d'utilisateurs d'internet pour 100 habitants.               |Les formations en lignes nécessitent une connexion internet  |\n",
    "| **Population, ages 15-24, total**                        | SP.POP.1524.TO.UN    |Nombre d'habitants âgés de 15 à 24 ans                             |Les pays ciblés devront compter suffisamment de jeunes|\n",
    "| **Enrolment in secondary education, both sexes (number)**  | SE.SEC.ENRL            |Nombre d'élèves inscrits dans le secondaire                    |Les formations s'adressent à un public de niveau lycée et université|\n",
    "| **Enrolment in tertiary education, all programmes, both sexes (number)**  | SE.TER.ENRL            |Nombre d'élèves inscrits dans l'enseignement supérieur      |Les formations s'adressent à un public de niveau lycée et université|\n",
    "| **GDP per capita (current US$)**                         | NY.GDP.PCAP.CD       |Produit Intérieur Brut par habitant                                |Formations payantes. Le développement commercial nécessite un PIB/hab suffisant |\n",
    "\n",
    "=> Ces 5 variables sont toutes présentes dans le fichier EdStatsData.csv\n",
    "\n",
    "Nom simplifié de ces variables dans notre analyse:\n",
    "- Internet_Users\n",
    "- Population15to24\n",
    "- Enrolment_Secondary\n",
    "- Enrolment_Tertiary\n",
    "- PIB_hab\n",
    "\n",
    "Utilisation des Indicator Codes dans les scripts."
   ]
  },
  {
   "cell_type": "markdown",
   "id": "6b495714",
   "metadata": {},
   "source": [
    "# <a name=\"C6\">1.6: Filtrage des variables choisies</a>"
   ]
  },
  {
   "cell_type": "markdown",
   "id": "a01df193",
   "metadata": {},
   "source": [
    "La plus grande partie des données pertinentes (y compris nos 5 variables sélectionnées) sont présentes dans le fichier EdStatsData.csv                                                                                                                \n",
    "Les traitements / filtrages se feront donc à partir de ce fichier."
   ]
  },
  {
   "cell_type": "markdown",
   "id": "b818e547",
   "metadata": {},
   "source": [
    "### 1. Filtrage des 5 variables d'EdStatsData"
   ]
  },
  {
   "cell_type": "markdown",
   "id": "18ae2c1b",
   "metadata": {},
   "source": [
    "Parmi les 886930 lignes du data frame EdStatsData, on ne garde que celles qui concernent les 5 variables pour créer 5 dataframes. "
   ]
  },
  {
   "cell_type": "code",
   "execution_count": 101,
   "id": "ff530c65",
   "metadata": {},
   "outputs": [
    {
     "data": {
      "text/plain": [
       "(242, 70)"
      ]
     },
     "execution_count": 101,
     "metadata": {},
     "output_type": "execute_result"
    }
   ],
   "source": [
    "# Création du data frame Data_Internet_Users \n",
    "Data_Internet_Users=EdStatsData.loc[EdStatsData['Indicator Code'] == 'IT.NET.USER.P2', :]\n",
    "Data_Internet_Users.reset_index(drop=True,inplace=True)\n",
    "Data_Internet_Users.head()\n",
    "Data_Internet_Users.shape"
   ]
  },
  {
   "cell_type": "code",
   "execution_count": 102,
   "id": "2628bd6f",
   "metadata": {},
   "outputs": [
    {
     "data": {
      "text/plain": [
       "(242, 70)"
      ]
     },
     "execution_count": 102,
     "metadata": {},
     "output_type": "execute_result"
    }
   ],
   "source": [
    "# Création du data frame Data_Population15to24\n",
    "Data_Population15to24=EdStatsData.loc[EdStatsData['Indicator Code'] == 'SP.POP.1524.TO.UN', :]\n",
    "Data_Population15to24.reset_index(drop=True,inplace=True)\n",
    "Data_Population15to24.shape"
   ]
  },
  {
   "cell_type": "code",
   "execution_count": 103,
   "id": "b90f25c4",
   "metadata": {},
   "outputs": [
    {
     "data": {
      "text/plain": [
       "(242, 70)"
      ]
     },
     "execution_count": 103,
     "metadata": {},
     "output_type": "execute_result"
    }
   ],
   "source": [
    "# Création du data frame Data_Enrolment_Secondary\n",
    "Data_Enrolment_Secondary=EdStatsData.loc[EdStatsData['Indicator Code'] == 'SE.SEC.ENRL', :]\n",
    "Data_Enrolment_Secondary.reset_index(drop=True,inplace=True)\n",
    "Data_Enrolment_Secondary.shape"
   ]
  },
  {
   "cell_type": "code",
   "execution_count": 104,
   "id": "52858833",
   "metadata": {},
   "outputs": [
    {
     "data": {
      "text/plain": [
       "(242, 70)"
      ]
     },
     "execution_count": 104,
     "metadata": {},
     "output_type": "execute_result"
    }
   ],
   "source": [
    "# Création du data frame Data_Enrolment_Tertiary\n",
    "Data_Enrolment_Tertiary=EdStatsData.loc[EdStatsData['Indicator Code'] == 'SE.TER.ENRL', :]\n",
    "Data_Enrolment_Tertiary.reset_index(drop=True,inplace=True)\n",
    "Data_Enrolment_Tertiary.shape"
   ]
  },
  {
   "cell_type": "code",
   "execution_count": 105,
   "id": "c941dd4b",
   "metadata": {},
   "outputs": [
    {
     "data": {
      "text/plain": [
       "(242, 70)"
      ]
     },
     "execution_count": 105,
     "metadata": {},
     "output_type": "execute_result"
    }
   ],
   "source": [
    "# Création du data frame Data_PIB_hab\n",
    "Data_PIB_hab=EdStatsData.loc[EdStatsData['Indicator Code'] == 'NY.GDP.PCAP.CD', :]\n",
    "Data_PIB_hab.reset_index(drop=True,inplace=True)\n",
    "Data_PIB_hab.shape"
   ]
  },
  {
   "cell_type": "markdown",
   "id": "1ac9a60c",
   "metadata": {},
   "source": [
    "### 2. Filtrage des dates - fonction qui récupère la dernière valeur non nulle d'une variable"
   ]
  },
  {
   "cell_type": "markdown",
   "id": "d1a6726e",
   "metadata": {},
   "source": [
    "Les 5 dataframes contiennent de nombreuses valeurs manquantes pour les années 1970 à 2100.\n",
    "Le but de la fonction suivante est de récupérer et stocker dans une série la dernière valeur non nulle d'une variable, pour chaque pays.\n",
    "Une colonne (dont le nom est l'indicator passé en argument) est alors créé à la fin du dataframe. Cette colonne contient la série de dernières valeurs non nulle pour chaque pays.\n",
    "La fonction prend en argument le Data frame, Indicator.\n",
    "        "
   ]
  },
  {
   "cell_type": "code",
   "execution_count": 106,
   "id": "88f9257d",
   "metadata": {},
   "outputs": [],
   "source": [
    "def latest_valid_value (Dataframe,Indicator):\n",
    "    print(\"Création d'une série de valeurs pour l'indicateur\",Indicator)\n",
    "    line=0 #première ligne du data frame\n",
    "    serie_name=pd.Series([], dtype='object') #création d'une série vide\n",
    "    for line in Dataframe.index:  # on parcourt les lignes du data frame\n",
    "        colonne=1 # nous servira pour partir de la derniere colonne du df (-1)\n",
    "        while pd.isnull(Dataframe.iloc[line, -colonne]): # tant que la valeur df[line,j] est manquante\n",
    "            colonne=colonne+1                            # on remonte les colonnes (vers une date plus récente)\n",
    "        if type(Dataframe.iloc[line, -colonne]) == np.float64: # la valeur de la variable doit être décimale \n",
    "            serie_name = pd.concat([serie_name, pd.Series([Dataframe.iloc[line,-colonne]])],ignore_index=True) #on ajoute la valeur dans la série \n",
    "        else:\n",
    "            serie_name = pd.concat([serie_name, pd.Series(np.NaN)]) #sinon, on ajoute NaN dans la série\n",
    "        line=line+1 # on passe à la ligne suivante\n",
    "    serie_name.reset_index(drop=True,inplace=True)\n",
    "    Dataframe[Indicator]=serie_name\n",
    "    display(serie_name)"
   ]
  },
  {
   "cell_type": "markdown",
   "id": "c35b6480",
   "metadata": {},
   "source": [
    "Execution de la fonction latest_valid_value pour les 5 dataframes:"
   ]
  },
  {
   "cell_type": "code",
   "execution_count": 107,
   "id": "9b07effd",
   "metadata": {},
   "outputs": [
    {
     "name": "stdout",
     "output_type": "stream",
     "text": [
      "Création d'une série de valeurs pour l'indicateur Internet_Users\n"
     ]
    },
    {
     "name": "stderr",
     "output_type": "stream",
     "text": [
      "C:\\Users\\Vincent-Formation\\AppData\\Local\\Temp\\ipykernel_13296\\4113034623.py:15: SettingWithCopyWarning: \n",
      "A value is trying to be set on a copy of a slice from a DataFrame.\n",
      "Try using .loc[row_indexer,col_indexer] = value instead\n",
      "\n",
      "See the caveats in the documentation: https://pandas.pydata.org/pandas-docs/stable/user_guide/indexing.html#returning-a-view-versus-a-copy\n",
      "  Dataframe[Indicator]=serie_name\n"
     ]
    },
    {
     "data": {
      "text/plain": [
       "0      36.868602\n",
       "1      52.796321\n",
       "2      48.386621\n",
       "3      80.446726\n",
       "4      73.914751\n",
       "         ...    \n",
       "237    59.608316\n",
       "238    61.178385\n",
       "239    24.579208\n",
       "240    25.506579\n",
       "241    23.119989\n",
       "Length: 242, dtype: float64"
      ]
     },
     "metadata": {},
     "output_type": "display_data"
    },
    {
     "name": "stdout",
     "output_type": "stream",
     "text": [
      "Création d'une série de valeurs pour l'indicateur Population15to24\n"
     ]
    },
    {
     "name": "stderr",
     "output_type": "stream",
     "text": [
      "C:\\Users\\Vincent-Formation\\AppData\\Local\\Temp\\ipykernel_13296\\4113034623.py:15: SettingWithCopyWarning: \n",
      "A value is trying to be set on a copy of a slice from a DataFrame.\n",
      "Try using .loc[row_indexer,col_indexer] = value instead\n",
      "\n",
      "See the caveats in the documentation: https://pandas.pydata.org/pandas-docs/stable/user_guide/indexing.html#returning-a-view-versus-a-copy\n",
      "  Dataframe[Indicator]=serie_name\n"
     ]
    },
    {
     "data": {
      "text/plain": [
       "0            NaN\n",
       "1            NaN\n",
       "2            NaN\n",
       "3            NaN\n",
       "4            NaN\n",
       "         ...    \n",
       "237          NaN\n",
       "238    1053004.0\n",
       "239    5995687.0\n",
       "240    3068044.0\n",
       "241    3333716.0\n",
       "Length: 242, dtype: float64"
      ]
     },
     "metadata": {},
     "output_type": "display_data"
    },
    {
     "name": "stdout",
     "output_type": "stream",
     "text": [
      "Création d'une série de valeurs pour l'indicateur Enrolment_Secondary\n"
     ]
    },
    {
     "name": "stderr",
     "output_type": "stream",
     "text": [
      "C:\\Users\\Vincent-Formation\\AppData\\Local\\Temp\\ipykernel_13296\\4113034623.py:15: SettingWithCopyWarning: \n",
      "A value is trying to be set on a copy of a slice from a DataFrame.\n",
      "Try using .loc[row_indexer,col_indexer] = value instead\n",
      "\n",
      "See the caveats in the documentation: https://pandas.pydata.org/pandas-docs/stable/user_guide/indexing.html#returning-a-view-versus-a-copy\n",
      "  Dataframe[Indicator]=serie_name\n"
     ]
    },
    {
     "data": {
      "text/plain": [
       "0       30972246.0\n",
       "1      154212112.0\n",
       "2      139756448.0\n",
       "3       28055416.0\n",
       "4       78143392.0\n",
       "          ...     \n",
       "237        12900.0\n",
       "238       721414.0\n",
       "239      1768102.0\n",
       "240       208640.0\n",
       "241       957461.0\n",
       "Length: 242, dtype: float64"
      ]
     },
     "metadata": {},
     "output_type": "display_data"
    },
    {
     "name": "stdout",
     "output_type": "stream",
     "text": [
      "Création d'une série de valeurs pour l'indicateur Enrolment_Tertiary\n"
     ]
    },
    {
     "name": "stderr",
     "output_type": "stream",
     "text": [
      "C:\\Users\\Vincent-Formation\\AppData\\Local\\Temp\\ipykernel_13296\\4113034623.py:15: SettingWithCopyWarning: \n",
      "A value is trying to be set on a copy of a slice from a DataFrame.\n",
      "Try using .loc[row_indexer,col_indexer] = value instead\n",
      "\n",
      "See the caveats in the documentation: https://pandas.pydata.org/pandas-docs/stable/user_guide/indexing.html#returning-a-view-versus-a-copy\n",
      "  Dataframe[Indicator]=serie_name\n"
     ]
    },
    {
     "data": {
      "text/plain": [
       "0       9966484.0\n",
       "1      69097800.0\n",
       "2      59809028.0\n",
       "3      13041961.0\n",
       "4      37693412.0\n",
       "          ...    \n",
       "237        2488.0\n",
       "238      221018.0\n",
       "239      267498.0\n",
       "240       56680.0\n",
       "241      135575.0\n",
       "Length: 242, dtype: float64"
      ]
     },
     "metadata": {},
     "output_type": "display_data"
    },
    {
     "name": "stderr",
     "output_type": "stream",
     "text": [
      "C:\\Users\\Vincent-Formation\\AppData\\Local\\Temp\\ipykernel_13296\\4113034623.py:15: SettingWithCopyWarning: \n",
      "A value is trying to be set on a copy of a slice from a DataFrame.\n",
      "Try using .loc[row_indexer,col_indexer] = value instead\n",
      "\n",
      "See the caveats in the documentation: https://pandas.pydata.org/pandas-docs/stable/user_guide/indexing.html#returning-a-view-versus-a-copy\n",
      "  Dataframe[Indicator]=serie_name\n"
     ]
    },
    {
     "name": "stdout",
     "output_type": "stream",
     "text": [
      "Création d'une série de valeurs pour l'indicateur PIB_hab\n"
     ]
    },
    {
     "data": {
      "text/plain": [
       "0       7715.998677\n",
       "1       9787.775545\n",
       "2       6586.833593\n",
       "3      35008.049004\n",
       "4      22230.203651\n",
       "           ...     \n",
       "237    36350.821635\n",
       "238     2943.404534\n",
       "239      990.334774\n",
       "240     1269.573537\n",
       "241     1029.076649\n",
       "Length: 242, dtype: float64"
      ]
     },
     "metadata": {},
     "output_type": "display_data"
    }
   ],
   "source": [
    "latest_valid_value(Data_Internet_Users,'Internet_Users')\n",
    "latest_valid_value(Data_Population15to24,'Population15to24')\n",
    "latest_valid_value(Data_Enrolment_Secondary,'Enrolment_Secondary')\n",
    "latest_valid_value(Data_Enrolment_Tertiary,'Enrolment_Tertiary')\n",
    "latest_valid_value(Data_PIB_hab,'PIB_hab')"
   ]
  },
  {
   "cell_type": "markdown",
   "id": "deb40525",
   "metadata": {},
   "source": [
    "### 3. Filtrage des colonnes des 5 dataframes"
   ]
  },
  {
   "cell_type": "markdown",
   "id": "947a7824",
   "metadata": {},
   "source": [
    "Pour chacun des 5 dataframes, on garde les colonne 'Country Code' et la dernière colonne ajoutée dans l'étape précédente. "
   ]
  },
  {
   "cell_type": "code",
   "execution_count": 108,
   "id": "1d7659b6",
   "metadata": {},
   "outputs": [
    {
     "data": {
      "text/html": [
       "<div>\n",
       "<style scoped>\n",
       "    .dataframe tbody tr th:only-of-type {\n",
       "        vertical-align: middle;\n",
       "    }\n",
       "\n",
       "    .dataframe tbody tr th {\n",
       "        vertical-align: top;\n",
       "    }\n",
       "\n",
       "    .dataframe thead th {\n",
       "        text-align: right;\n",
       "    }\n",
       "</style>\n",
       "<table border=\"1\" class=\"dataframe\">\n",
       "  <thead>\n",
       "    <tr style=\"text-align: right;\">\n",
       "      <th></th>\n",
       "      <th>Country Code</th>\n",
       "      <th>Country Name</th>\n",
       "      <th>Internet_Users</th>\n",
       "    </tr>\n",
       "  </thead>\n",
       "  <tbody>\n",
       "    <tr>\n",
       "      <th>0</th>\n",
       "      <td>ARB</td>\n",
       "      <td>Arab World</td>\n",
       "      <td>36.868602</td>\n",
       "    </tr>\n",
       "    <tr>\n",
       "      <th>1</th>\n",
       "      <td>EAS</td>\n",
       "      <td>East Asia &amp; Pacific</td>\n",
       "      <td>52.796321</td>\n",
       "    </tr>\n",
       "    <tr>\n",
       "      <th>2</th>\n",
       "      <td>EAP</td>\n",
       "      <td>East Asia &amp; Pacific (excluding high income)</td>\n",
       "      <td>48.386621</td>\n",
       "    </tr>\n",
       "    <tr>\n",
       "      <th>3</th>\n",
       "      <td>EMU</td>\n",
       "      <td>Euro area</td>\n",
       "      <td>80.446726</td>\n",
       "    </tr>\n",
       "    <tr>\n",
       "      <th>4</th>\n",
       "      <td>ECS</td>\n",
       "      <td>Europe &amp; Central Asia</td>\n",
       "      <td>73.914751</td>\n",
       "    </tr>\n",
       "  </tbody>\n",
       "</table>\n",
       "</div>"
      ],
      "text/plain": [
       "  Country Code                                 Country Name  Internet_Users\n",
       "0          ARB                                   Arab World       36.868602\n",
       "1          EAS                          East Asia & Pacific       52.796321\n",
       "2          EAP  East Asia & Pacific (excluding high income)       48.386621\n",
       "3          EMU                                    Euro area       80.446726\n",
       "4          ECS                        Europe & Central Asia       73.914751"
      ]
     },
     "execution_count": 108,
     "metadata": {},
     "output_type": "execute_result"
    }
   ],
   "source": [
    "Data_Internet_Users=Data_Internet_Users.loc[:,['Country Code','Country Name','Internet_Users']]\n",
    "Data_Internet_Users.head()"
   ]
  },
  {
   "cell_type": "code",
   "execution_count": 109,
   "id": "857a4d7f",
   "metadata": {},
   "outputs": [
    {
     "data": {
      "text/html": [
       "<div>\n",
       "<style scoped>\n",
       "    .dataframe tbody tr th:only-of-type {\n",
       "        vertical-align: middle;\n",
       "    }\n",
       "\n",
       "    .dataframe tbody tr th {\n",
       "        vertical-align: top;\n",
       "    }\n",
       "\n",
       "    .dataframe thead th {\n",
       "        text-align: right;\n",
       "    }\n",
       "</style>\n",
       "<table border=\"1\" class=\"dataframe\">\n",
       "  <thead>\n",
       "    <tr style=\"text-align: right;\">\n",
       "      <th></th>\n",
       "      <th>Country Code</th>\n",
       "      <th>Population15to24</th>\n",
       "    </tr>\n",
       "  </thead>\n",
       "  <tbody>\n",
       "    <tr>\n",
       "      <th>0</th>\n",
       "      <td>ARB</td>\n",
       "      <td>NaN</td>\n",
       "    </tr>\n",
       "    <tr>\n",
       "      <th>1</th>\n",
       "      <td>EAS</td>\n",
       "      <td>NaN</td>\n",
       "    </tr>\n",
       "    <tr>\n",
       "      <th>2</th>\n",
       "      <td>EAP</td>\n",
       "      <td>NaN</td>\n",
       "    </tr>\n",
       "    <tr>\n",
       "      <th>3</th>\n",
       "      <td>EMU</td>\n",
       "      <td>NaN</td>\n",
       "    </tr>\n",
       "    <tr>\n",
       "      <th>4</th>\n",
       "      <td>ECS</td>\n",
       "      <td>NaN</td>\n",
       "    </tr>\n",
       "  </tbody>\n",
       "</table>\n",
       "</div>"
      ],
      "text/plain": [
       "  Country Code  Population15to24\n",
       "0          ARB               NaN\n",
       "1          EAS               NaN\n",
       "2          EAP               NaN\n",
       "3          EMU               NaN\n",
       "4          ECS               NaN"
      ]
     },
     "execution_count": 109,
     "metadata": {},
     "output_type": "execute_result"
    }
   ],
   "source": [
    "Data_Population15to24=Data_Population15to24.loc[:,['Country Code','Population15to24']]\n",
    "Data_Population15to24.head()"
   ]
  },
  {
   "cell_type": "code",
   "execution_count": 110,
   "id": "4745f8f2",
   "metadata": {},
   "outputs": [
    {
     "data": {
      "text/html": [
       "<div>\n",
       "<style scoped>\n",
       "    .dataframe tbody tr th:only-of-type {\n",
       "        vertical-align: middle;\n",
       "    }\n",
       "\n",
       "    .dataframe tbody tr th {\n",
       "        vertical-align: top;\n",
       "    }\n",
       "\n",
       "    .dataframe thead th {\n",
       "        text-align: right;\n",
       "    }\n",
       "</style>\n",
       "<table border=\"1\" class=\"dataframe\">\n",
       "  <thead>\n",
       "    <tr style=\"text-align: right;\">\n",
       "      <th></th>\n",
       "      <th>Country Code</th>\n",
       "      <th>Enrolment_Secondary</th>\n",
       "    </tr>\n",
       "  </thead>\n",
       "  <tbody>\n",
       "    <tr>\n",
       "      <th>0</th>\n",
       "      <td>ARB</td>\n",
       "      <td>30972246.0</td>\n",
       "    </tr>\n",
       "    <tr>\n",
       "      <th>1</th>\n",
       "      <td>EAS</td>\n",
       "      <td>154212112.0</td>\n",
       "    </tr>\n",
       "    <tr>\n",
       "      <th>2</th>\n",
       "      <td>EAP</td>\n",
       "      <td>139756448.0</td>\n",
       "    </tr>\n",
       "    <tr>\n",
       "      <th>3</th>\n",
       "      <td>EMU</td>\n",
       "      <td>28055416.0</td>\n",
       "    </tr>\n",
       "    <tr>\n",
       "      <th>4</th>\n",
       "      <td>ECS</td>\n",
       "      <td>78143392.0</td>\n",
       "    </tr>\n",
       "  </tbody>\n",
       "</table>\n",
       "</div>"
      ],
      "text/plain": [
       "  Country Code  Enrolment_Secondary\n",
       "0          ARB           30972246.0\n",
       "1          EAS          154212112.0\n",
       "2          EAP          139756448.0\n",
       "3          EMU           28055416.0\n",
       "4          ECS           78143392.0"
      ]
     },
     "execution_count": 110,
     "metadata": {},
     "output_type": "execute_result"
    }
   ],
   "source": [
    "Data_Enrolment_Secondary=Data_Enrolment_Secondary.loc[:,['Country Code','Enrolment_Secondary']]\n",
    "Data_Enrolment_Secondary.head()\n"
   ]
  },
  {
   "cell_type": "code",
   "execution_count": 111,
   "id": "83d0e241",
   "metadata": {},
   "outputs": [
    {
     "data": {
      "text/html": [
       "<div>\n",
       "<style scoped>\n",
       "    .dataframe tbody tr th:only-of-type {\n",
       "        vertical-align: middle;\n",
       "    }\n",
       "\n",
       "    .dataframe tbody tr th {\n",
       "        vertical-align: top;\n",
       "    }\n",
       "\n",
       "    .dataframe thead th {\n",
       "        text-align: right;\n",
       "    }\n",
       "</style>\n",
       "<table border=\"1\" class=\"dataframe\">\n",
       "  <thead>\n",
       "    <tr style=\"text-align: right;\">\n",
       "      <th></th>\n",
       "      <th>Country Code</th>\n",
       "      <th>Enrolment_Tertiary</th>\n",
       "    </tr>\n",
       "  </thead>\n",
       "  <tbody>\n",
       "    <tr>\n",
       "      <th>0</th>\n",
       "      <td>ARB</td>\n",
       "      <td>9966484.0</td>\n",
       "    </tr>\n",
       "    <tr>\n",
       "      <th>1</th>\n",
       "      <td>EAS</td>\n",
       "      <td>69097800.0</td>\n",
       "    </tr>\n",
       "    <tr>\n",
       "      <th>2</th>\n",
       "      <td>EAP</td>\n",
       "      <td>59809028.0</td>\n",
       "    </tr>\n",
       "    <tr>\n",
       "      <th>3</th>\n",
       "      <td>EMU</td>\n",
       "      <td>13041961.0</td>\n",
       "    </tr>\n",
       "    <tr>\n",
       "      <th>4</th>\n",
       "      <td>ECS</td>\n",
       "      <td>37693412.0</td>\n",
       "    </tr>\n",
       "  </tbody>\n",
       "</table>\n",
       "</div>"
      ],
      "text/plain": [
       "  Country Code  Enrolment_Tertiary\n",
       "0          ARB           9966484.0\n",
       "1          EAS          69097800.0\n",
       "2          EAP          59809028.0\n",
       "3          EMU          13041961.0\n",
       "4          ECS          37693412.0"
      ]
     },
     "execution_count": 111,
     "metadata": {},
     "output_type": "execute_result"
    }
   ],
   "source": [
    "Data_Enrolment_Tertiary=Data_Enrolment_Tertiary.loc[:,['Country Code','Enrolment_Tertiary']]\n",
    "Data_Enrolment_Tertiary.head()"
   ]
  },
  {
   "cell_type": "code",
   "execution_count": 112,
   "id": "af7dfaba",
   "metadata": {},
   "outputs": [
    {
     "data": {
      "text/html": [
       "<div>\n",
       "<style scoped>\n",
       "    .dataframe tbody tr th:only-of-type {\n",
       "        vertical-align: middle;\n",
       "    }\n",
       "\n",
       "    .dataframe tbody tr th {\n",
       "        vertical-align: top;\n",
       "    }\n",
       "\n",
       "    .dataframe thead th {\n",
       "        text-align: right;\n",
       "    }\n",
       "</style>\n",
       "<table border=\"1\" class=\"dataframe\">\n",
       "  <thead>\n",
       "    <tr style=\"text-align: right;\">\n",
       "      <th></th>\n",
       "      <th>Country Code</th>\n",
       "      <th>PIB_hab</th>\n",
       "    </tr>\n",
       "  </thead>\n",
       "  <tbody>\n",
       "    <tr>\n",
       "      <th>0</th>\n",
       "      <td>ARB</td>\n",
       "      <td>7715.998677</td>\n",
       "    </tr>\n",
       "    <tr>\n",
       "      <th>1</th>\n",
       "      <td>EAS</td>\n",
       "      <td>9787.775545</td>\n",
       "    </tr>\n",
       "    <tr>\n",
       "      <th>2</th>\n",
       "      <td>EAP</td>\n",
       "      <td>6586.833593</td>\n",
       "    </tr>\n",
       "    <tr>\n",
       "      <th>3</th>\n",
       "      <td>EMU</td>\n",
       "      <td>35008.049004</td>\n",
       "    </tr>\n",
       "    <tr>\n",
       "      <th>4</th>\n",
       "      <td>ECS</td>\n",
       "      <td>22230.203651</td>\n",
       "    </tr>\n",
       "  </tbody>\n",
       "</table>\n",
       "</div>"
      ],
      "text/plain": [
       "  Country Code       PIB_hab\n",
       "0          ARB   7715.998677\n",
       "1          EAS   9787.775545\n",
       "2          EAP   6586.833593\n",
       "3          EMU  35008.049004\n",
       "4          ECS  22230.203651"
      ]
     },
     "execution_count": 112,
     "metadata": {},
     "output_type": "execute_result"
    }
   ],
   "source": [
    "Data_PIB_hab=Data_PIB_hab.loc[:,['Country Code','PIB_hab']]\n",
    "Data_PIB_hab.head()"
   ]
  },
  {
   "cell_type": "markdown",
   "id": "afdf90fd",
   "metadata": {},
   "source": [
    "# <a name=\"C7\">1.7: Fusion des données filtrées</a>"
   ]
  },
  {
   "cell_type": "markdown",
   "id": "ddbf8190",
   "metadata": {},
   "source": [
    "Le but de ce traitement est de fusionner nos 5 dataframes en 1 seul dataframe contenant les 5 variables sélectionnées pour l'ensemble des pays."
   ]
  },
  {
   "cell_type": "code",
   "execution_count": 113,
   "id": "0e021810",
   "metadata": {},
   "outputs": [
    {
     "data": {
      "text/html": [
       "<div>\n",
       "<style scoped>\n",
       "    .dataframe tbody tr th:only-of-type {\n",
       "        vertical-align: middle;\n",
       "    }\n",
       "\n",
       "    .dataframe tbody tr th {\n",
       "        vertical-align: top;\n",
       "    }\n",
       "\n",
       "    .dataframe thead th {\n",
       "        text-align: right;\n",
       "    }\n",
       "</style>\n",
       "<table border=\"1\" class=\"dataframe\">\n",
       "  <thead>\n",
       "    <tr style=\"text-align: right;\">\n",
       "      <th></th>\n",
       "      <th>Country Code</th>\n",
       "      <th>Country Name</th>\n",
       "      <th>Internet_Users</th>\n",
       "      <th>Population15to24</th>\n",
       "    </tr>\n",
       "  </thead>\n",
       "  <tbody>\n",
       "    <tr>\n",
       "      <th>0</th>\n",
       "      <td>ARB</td>\n",
       "      <td>Arab World</td>\n",
       "      <td>36.868602</td>\n",
       "      <td>NaN</td>\n",
       "    </tr>\n",
       "    <tr>\n",
       "      <th>1</th>\n",
       "      <td>EAS</td>\n",
       "      <td>East Asia &amp; Pacific</td>\n",
       "      <td>52.796321</td>\n",
       "      <td>NaN</td>\n",
       "    </tr>\n",
       "    <tr>\n",
       "      <th>2</th>\n",
       "      <td>EAP</td>\n",
       "      <td>East Asia &amp; Pacific (excluding high income)</td>\n",
       "      <td>48.386621</td>\n",
       "      <td>NaN</td>\n",
       "    </tr>\n",
       "    <tr>\n",
       "      <th>3</th>\n",
       "      <td>EMU</td>\n",
       "      <td>Euro area</td>\n",
       "      <td>80.446726</td>\n",
       "      <td>NaN</td>\n",
       "    </tr>\n",
       "    <tr>\n",
       "      <th>4</th>\n",
       "      <td>ECS</td>\n",
       "      <td>Europe &amp; Central Asia</td>\n",
       "      <td>73.914751</td>\n",
       "      <td>NaN</td>\n",
       "    </tr>\n",
       "  </tbody>\n",
       "</table>\n",
       "</div>"
      ],
      "text/plain": [
       "  Country Code                                 Country Name  Internet_Users  \\\n",
       "0          ARB                                   Arab World       36.868602   \n",
       "1          EAS                          East Asia & Pacific       52.796321   \n",
       "2          EAP  East Asia & Pacific (excluding high income)       48.386621   \n",
       "3          EMU                                    Euro area       80.446726   \n",
       "4          ECS                        Europe & Central Asia       73.914751   \n",
       "\n",
       "   Population15to24  \n",
       "0               NaN  \n",
       "1               NaN  \n",
       "2               NaN  \n",
       "3               NaN  \n",
       "4               NaN  "
      ]
     },
     "execution_count": 113,
     "metadata": {},
     "output_type": "execute_result"
    }
   ],
   "source": [
    "Data=pd.merge(Data_Internet_Users, Data_Population15to24, on='Country Code', how='inner')\n",
    "Data.head()"
   ]
  },
  {
   "cell_type": "code",
   "execution_count": 114,
   "id": "1d704b7c",
   "metadata": {},
   "outputs": [
    {
     "data": {
      "text/html": [
       "<div>\n",
       "<style scoped>\n",
       "    .dataframe tbody tr th:only-of-type {\n",
       "        vertical-align: middle;\n",
       "    }\n",
       "\n",
       "    .dataframe tbody tr th {\n",
       "        vertical-align: top;\n",
       "    }\n",
       "\n",
       "    .dataframe thead th {\n",
       "        text-align: right;\n",
       "    }\n",
       "</style>\n",
       "<table border=\"1\" class=\"dataframe\">\n",
       "  <thead>\n",
       "    <tr style=\"text-align: right;\">\n",
       "      <th></th>\n",
       "      <th>Country Code</th>\n",
       "      <th>Country Name</th>\n",
       "      <th>Internet_Users</th>\n",
       "      <th>Population15to24</th>\n",
       "      <th>Enrolment_Secondary</th>\n",
       "    </tr>\n",
       "  </thead>\n",
       "  <tbody>\n",
       "    <tr>\n",
       "      <th>0</th>\n",
       "      <td>ARB</td>\n",
       "      <td>Arab World</td>\n",
       "      <td>36.868602</td>\n",
       "      <td>NaN</td>\n",
       "      <td>30972246.0</td>\n",
       "    </tr>\n",
       "    <tr>\n",
       "      <th>1</th>\n",
       "      <td>EAS</td>\n",
       "      <td>East Asia &amp; Pacific</td>\n",
       "      <td>52.796321</td>\n",
       "      <td>NaN</td>\n",
       "      <td>154212112.0</td>\n",
       "    </tr>\n",
       "    <tr>\n",
       "      <th>2</th>\n",
       "      <td>EAP</td>\n",
       "      <td>East Asia &amp; Pacific (excluding high income)</td>\n",
       "      <td>48.386621</td>\n",
       "      <td>NaN</td>\n",
       "      <td>139756448.0</td>\n",
       "    </tr>\n",
       "    <tr>\n",
       "      <th>3</th>\n",
       "      <td>EMU</td>\n",
       "      <td>Euro area</td>\n",
       "      <td>80.446726</td>\n",
       "      <td>NaN</td>\n",
       "      <td>28055416.0</td>\n",
       "    </tr>\n",
       "    <tr>\n",
       "      <th>4</th>\n",
       "      <td>ECS</td>\n",
       "      <td>Europe &amp; Central Asia</td>\n",
       "      <td>73.914751</td>\n",
       "      <td>NaN</td>\n",
       "      <td>78143392.0</td>\n",
       "    </tr>\n",
       "  </tbody>\n",
       "</table>\n",
       "</div>"
      ],
      "text/plain": [
       "  Country Code                                 Country Name  Internet_Users  \\\n",
       "0          ARB                                   Arab World       36.868602   \n",
       "1          EAS                          East Asia & Pacific       52.796321   \n",
       "2          EAP  East Asia & Pacific (excluding high income)       48.386621   \n",
       "3          EMU                                    Euro area       80.446726   \n",
       "4          ECS                        Europe & Central Asia       73.914751   \n",
       "\n",
       "   Population15to24  Enrolment_Secondary  \n",
       "0               NaN           30972246.0  \n",
       "1               NaN          154212112.0  \n",
       "2               NaN          139756448.0  \n",
       "3               NaN           28055416.0  \n",
       "4               NaN           78143392.0  "
      ]
     },
     "execution_count": 114,
     "metadata": {},
     "output_type": "execute_result"
    }
   ],
   "source": [
    "Data=pd.merge(Data, Data_Enrolment_Secondary, on='Country Code', how='inner')\n",
    "Data.head()"
   ]
  },
  {
   "cell_type": "code",
   "execution_count": 115,
   "id": "9b3c323e",
   "metadata": {},
   "outputs": [
    {
     "data": {
      "text/html": [
       "<div>\n",
       "<style scoped>\n",
       "    .dataframe tbody tr th:only-of-type {\n",
       "        vertical-align: middle;\n",
       "    }\n",
       "\n",
       "    .dataframe tbody tr th {\n",
       "        vertical-align: top;\n",
       "    }\n",
       "\n",
       "    .dataframe thead th {\n",
       "        text-align: right;\n",
       "    }\n",
       "</style>\n",
       "<table border=\"1\" class=\"dataframe\">\n",
       "  <thead>\n",
       "    <tr style=\"text-align: right;\">\n",
       "      <th></th>\n",
       "      <th>Country Code</th>\n",
       "      <th>Country Name</th>\n",
       "      <th>Internet_Users</th>\n",
       "      <th>Population15to24</th>\n",
       "      <th>Enrolment_Secondary</th>\n",
       "      <th>Enrolment_Tertiary</th>\n",
       "    </tr>\n",
       "  </thead>\n",
       "  <tbody>\n",
       "    <tr>\n",
       "      <th>0</th>\n",
       "      <td>ARB</td>\n",
       "      <td>Arab World</td>\n",
       "      <td>36.868602</td>\n",
       "      <td>NaN</td>\n",
       "      <td>30972246.0</td>\n",
       "      <td>9966484.0</td>\n",
       "    </tr>\n",
       "    <tr>\n",
       "      <th>1</th>\n",
       "      <td>EAS</td>\n",
       "      <td>East Asia &amp; Pacific</td>\n",
       "      <td>52.796321</td>\n",
       "      <td>NaN</td>\n",
       "      <td>154212112.0</td>\n",
       "      <td>69097800.0</td>\n",
       "    </tr>\n",
       "    <tr>\n",
       "      <th>2</th>\n",
       "      <td>EAP</td>\n",
       "      <td>East Asia &amp; Pacific (excluding high income)</td>\n",
       "      <td>48.386621</td>\n",
       "      <td>NaN</td>\n",
       "      <td>139756448.0</td>\n",
       "      <td>59809028.0</td>\n",
       "    </tr>\n",
       "    <tr>\n",
       "      <th>3</th>\n",
       "      <td>EMU</td>\n",
       "      <td>Euro area</td>\n",
       "      <td>80.446726</td>\n",
       "      <td>NaN</td>\n",
       "      <td>28055416.0</td>\n",
       "      <td>13041961.0</td>\n",
       "    </tr>\n",
       "    <tr>\n",
       "      <th>4</th>\n",
       "      <td>ECS</td>\n",
       "      <td>Europe &amp; Central Asia</td>\n",
       "      <td>73.914751</td>\n",
       "      <td>NaN</td>\n",
       "      <td>78143392.0</td>\n",
       "      <td>37693412.0</td>\n",
       "    </tr>\n",
       "  </tbody>\n",
       "</table>\n",
       "</div>"
      ],
      "text/plain": [
       "  Country Code                                 Country Name  Internet_Users  \\\n",
       "0          ARB                                   Arab World       36.868602   \n",
       "1          EAS                          East Asia & Pacific       52.796321   \n",
       "2          EAP  East Asia & Pacific (excluding high income)       48.386621   \n",
       "3          EMU                                    Euro area       80.446726   \n",
       "4          ECS                        Europe & Central Asia       73.914751   \n",
       "\n",
       "   Population15to24  Enrolment_Secondary  Enrolment_Tertiary  \n",
       "0               NaN           30972246.0           9966484.0  \n",
       "1               NaN          154212112.0          69097800.0  \n",
       "2               NaN          139756448.0          59809028.0  \n",
       "3               NaN           28055416.0          13041961.0  \n",
       "4               NaN           78143392.0          37693412.0  "
      ]
     },
     "execution_count": 115,
     "metadata": {},
     "output_type": "execute_result"
    }
   ],
   "source": [
    "Data=pd.merge(Data, Data_Enrolment_Tertiary, on='Country Code', how='inner')\n",
    "Data.head()"
   ]
  },
  {
   "cell_type": "code",
   "execution_count": 116,
   "id": "e589c41c",
   "metadata": {},
   "outputs": [
    {
     "name": "stdout",
     "output_type": "stream",
     "text": [
      "(242, 7)\n"
     ]
    },
    {
     "data": {
      "text/html": [
       "<div>\n",
       "<style scoped>\n",
       "    .dataframe tbody tr th:only-of-type {\n",
       "        vertical-align: middle;\n",
       "    }\n",
       "\n",
       "    .dataframe tbody tr th {\n",
       "        vertical-align: top;\n",
       "    }\n",
       "\n",
       "    .dataframe thead th {\n",
       "        text-align: right;\n",
       "    }\n",
       "</style>\n",
       "<table border=\"1\" class=\"dataframe\">\n",
       "  <thead>\n",
       "    <tr style=\"text-align: right;\">\n",
       "      <th></th>\n",
       "      <th>Country Code</th>\n",
       "      <th>Country Name</th>\n",
       "      <th>Internet_Users</th>\n",
       "      <th>Population15to24</th>\n",
       "      <th>Enrolment_Secondary</th>\n",
       "      <th>Enrolment_Tertiary</th>\n",
       "      <th>PIB_hab</th>\n",
       "    </tr>\n",
       "  </thead>\n",
       "  <tbody>\n",
       "    <tr>\n",
       "      <th>0</th>\n",
       "      <td>ARB</td>\n",
       "      <td>Arab World</td>\n",
       "      <td>36.868602</td>\n",
       "      <td>NaN</td>\n",
       "      <td>30972246.0</td>\n",
       "      <td>9966484.0</td>\n",
       "      <td>7715.998677</td>\n",
       "    </tr>\n",
       "    <tr>\n",
       "      <th>1</th>\n",
       "      <td>EAS</td>\n",
       "      <td>East Asia &amp; Pacific</td>\n",
       "      <td>52.796321</td>\n",
       "      <td>NaN</td>\n",
       "      <td>154212112.0</td>\n",
       "      <td>69097800.0</td>\n",
       "      <td>9787.775545</td>\n",
       "    </tr>\n",
       "    <tr>\n",
       "      <th>2</th>\n",
       "      <td>EAP</td>\n",
       "      <td>East Asia &amp; Pacific (excluding high income)</td>\n",
       "      <td>48.386621</td>\n",
       "      <td>NaN</td>\n",
       "      <td>139756448.0</td>\n",
       "      <td>59809028.0</td>\n",
       "      <td>6586.833593</td>\n",
       "    </tr>\n",
       "    <tr>\n",
       "      <th>3</th>\n",
       "      <td>EMU</td>\n",
       "      <td>Euro area</td>\n",
       "      <td>80.446726</td>\n",
       "      <td>NaN</td>\n",
       "      <td>28055416.0</td>\n",
       "      <td>13041961.0</td>\n",
       "      <td>35008.049004</td>\n",
       "    </tr>\n",
       "    <tr>\n",
       "      <th>4</th>\n",
       "      <td>ECS</td>\n",
       "      <td>Europe &amp; Central Asia</td>\n",
       "      <td>73.914751</td>\n",
       "      <td>NaN</td>\n",
       "      <td>78143392.0</td>\n",
       "      <td>37693412.0</td>\n",
       "      <td>22230.203651</td>\n",
       "    </tr>\n",
       "  </tbody>\n",
       "</table>\n",
       "</div>"
      ],
      "text/plain": [
       "  Country Code                                 Country Name  Internet_Users  \\\n",
       "0          ARB                                   Arab World       36.868602   \n",
       "1          EAS                          East Asia & Pacific       52.796321   \n",
       "2          EAP  East Asia & Pacific (excluding high income)       48.386621   \n",
       "3          EMU                                    Euro area       80.446726   \n",
       "4          ECS                        Europe & Central Asia       73.914751   \n",
       "\n",
       "   Population15to24  Enrolment_Secondary  Enrolment_Tertiary       PIB_hab  \n",
       "0               NaN           30972246.0           9966484.0   7715.998677  \n",
       "1               NaN          154212112.0          69097800.0   9787.775545  \n",
       "2               NaN          139756448.0          59809028.0   6586.833593  \n",
       "3               NaN           28055416.0          13041961.0  35008.049004  \n",
       "4               NaN           78143392.0          37693412.0  22230.203651  "
      ]
     },
     "execution_count": 116,
     "metadata": {},
     "output_type": "execute_result"
    }
   ],
   "source": [
    "Data=pd.merge(Data, Data_PIB_hab, on='Country Code', how='inner')\n",
    "print(Data.shape)\n",
    "Data.head()"
   ]
  },
  {
   "cell_type": "markdown",
   "id": "e6625d44",
   "metadata": {},
   "source": [
    "**Le dataframe Data contient bien les 5 variables sélectionnées pour l'ensemble des pays.**"
   ]
  },
  {
   "cell_type": "markdown",
   "id": "0a8e8bb6",
   "metadata": {},
   "source": [
    "# <a name=\"C8\">1.8 Validation des données nettoyées</a>"
   ]
  },
  {
   "cell_type": "markdown",
   "id": "aae47e8a",
   "metadata": {},
   "source": [
    "### 1. Filtrage des petits pays"
   ]
  },
  {
   "cell_type": "markdown",
   "id": "2c271d85",
   "metadata": {},
   "source": [
    "Le développement commercial d'Academy ne sera pas possible dans les plus petits pays.\n",
    "\n",
    "Fixons un seuil sur la population de jeunes (15-24 ans) à 130 000 habitants pour vérifier le remplissage des variables de Data."
   ]
  },
  {
   "cell_type": "code",
   "execution_count": 117,
   "id": "9e57b14b",
   "metadata": {},
   "outputs": [],
   "source": [
    "Data.loc[Data['Population15to24'] > 130000,:].shape\n",
    "Data=Data.loc[Data['Population15to24'] > 130000,:]"
   ]
  },
  {
   "cell_type": "markdown",
   "id": "794d85e8",
   "metadata": {},
   "source": [
    "Vérification des valeurs manquantes dans Data:"
   ]
  },
  {
   "cell_type": "code",
   "execution_count": 118,
   "id": "c8ae279e",
   "metadata": {},
   "outputs": [
    {
     "data": {
      "text/plain": [
       "Country Code           0\n",
       "Country Name           0\n",
       "Internet_Users         0\n",
       "Population15to24       0\n",
       "Enrolment_Secondary    0\n",
       "Enrolment_Tertiary     0\n",
       "PIB_hab                1\n",
       "dtype: int64"
      ]
     },
     "execution_count": 118,
     "metadata": {},
     "output_type": "execute_result"
    }
   ],
   "source": [
    "Data.isnull().sum()"
   ]
  },
  {
   "cell_type": "markdown",
   "id": "5ed79c28",
   "metadata": {},
   "source": [
    "Après application du filtre sur la population jeune minimale, il reste un pays avec valeur manquante, la Coré du Nord qui peut être\n",
    "écarté pour des raisons géopolitiques qui rendent un développement commercial trop complexe."
   ]
  },
  {
   "cell_type": "code",
   "execution_count": 119,
   "id": "b43bf52e",
   "metadata": {},
   "outputs": [
    {
     "data": {
      "text/html": [
       "<div>\n",
       "<style scoped>\n",
       "    .dataframe tbody tr th:only-of-type {\n",
       "        vertical-align: middle;\n",
       "    }\n",
       "\n",
       "    .dataframe tbody tr th {\n",
       "        vertical-align: top;\n",
       "    }\n",
       "\n",
       "    .dataframe thead th {\n",
       "        text-align: right;\n",
       "    }\n",
       "</style>\n",
       "<table border=\"1\" class=\"dataframe\">\n",
       "  <thead>\n",
       "    <tr style=\"text-align: right;\">\n",
       "      <th></th>\n",
       "      <th>Country Code</th>\n",
       "      <th>Country Name</th>\n",
       "      <th>Internet_Users</th>\n",
       "      <th>Population15to24</th>\n",
       "      <th>Enrolment_Secondary</th>\n",
       "      <th>Enrolment_Tertiary</th>\n",
       "      <th>PIB_hab</th>\n",
       "    </tr>\n",
       "  </thead>\n",
       "  <tbody>\n",
       "    <tr>\n",
       "      <th>127</th>\n",
       "      <td>PRK</td>\n",
       "      <td>Korea, Dem. People’s Rep.</td>\n",
       "      <td>0.0</td>\n",
       "      <td>4023348.0</td>\n",
       "      <td>2148364.0</td>\n",
       "      <td>565350.0</td>\n",
       "      <td>NaN</td>\n",
       "    </tr>\n",
       "  </tbody>\n",
       "</table>\n",
       "</div>"
      ],
      "text/plain": [
       "    Country Code               Country Name  Internet_Users  Population15to24  \\\n",
       "127          PRK  Korea, Dem. People’s Rep.             0.0         4023348.0   \n",
       "\n",
       "     Enrolment_Secondary  Enrolment_Tertiary  PIB_hab  \n",
       "127            2148364.0            565350.0      NaN  "
      ]
     },
     "execution_count": 119,
     "metadata": {},
     "output_type": "execute_result"
    }
   ],
   "source": [
    "Data.loc[Data['PIB_hab'].isnull(),:]"
   ]
  },
  {
   "cell_type": "markdown",
   "id": "b538a688",
   "metadata": {},
   "source": [
    "Supression de la Corée du Nord"
   ]
  },
  {
   "cell_type": "code",
   "execution_count": 120,
   "id": "c00b5a1b",
   "metadata": {},
   "outputs": [],
   "source": [
    "Data=Data.loc[Data['Country Code'].ne('PRK'),:]"
   ]
  },
  {
   "cell_type": "markdown",
   "id": "008d4a56",
   "metadata": {},
   "source": [
    "### 2. Vérification après traitement des données manquantes"
   ]
  },
  {
   "cell_type": "code",
   "execution_count": 121,
   "id": "b6bf7df5",
   "metadata": {},
   "outputs": [
    {
     "name": "stdout",
     "output_type": "stream",
     "text": [
      "(156, 7)\n"
     ]
    },
    {
     "data": {
      "text/plain": [
       "Country Code           0\n",
       "Country Name           0\n",
       "Internet_Users         0\n",
       "Population15to24       0\n",
       "Enrolment_Secondary    0\n",
       "Enrolment_Tertiary     0\n",
       "PIB_hab                0\n",
       "dtype: int64"
      ]
     },
     "execution_count": 121,
     "metadata": {},
     "output_type": "execute_result"
    }
   ],
   "source": [
    "print(Data.shape)\n",
    "Data.isnull().sum()"
   ]
  },
  {
   "cell_type": "markdown",
   "id": "95abdc4b",
   "metadata": {},
   "source": [
    "**En fixant ce seuil minimum à 130 000 pour la population jeune, les données sont exploitables pour les 5 variables choisies, pour 156 pays**."
   ]
  },
  {
   "cell_type": "markdown",
   "id": "2a024fcf",
   "metadata": {},
   "source": [
    "# <a name=\"C11\">2.1 Analyse univariée</a>"
   ]
  },
  {
   "cell_type": "markdown",
   "id": "9fedf8f4",
   "metadata": {},
   "source": [
    "# <a name=\"C111\">2.1.1 Variable Internet_Users</a>"
   ]
  },
  {
   "cell_type": "markdown",
   "id": "442cfe5f",
   "metadata": {},
   "source": [
    "Calcul des indicateurs statistiques pour la variable Internet_Users (nombre d'utilisateurs internet pour 100 habitants)"
   ]
  },
  {
   "cell_type": "code",
   "execution_count": 122,
   "id": "f06f3f74",
   "metadata": {},
   "outputs": [
    {
     "name": "stdout",
     "output_type": "stream",
     "text": [
      "Moyenne de la variable Internet_Users: 47.6\n"
     ]
    }
   ],
   "source": [
    "# moyenne\n",
    "print(\"Moyenne de la variable Internet_Users:\", round(Data['Internet_Users'].mean(),2))"
   ]
  },
  {
   "cell_type": "code",
   "execution_count": 123,
   "id": "acc229b9",
   "metadata": {},
   "outputs": [
    {
     "name": "stdout",
     "output_type": "stream",
     "text": [
      "Médiane de la variable Internet_Users: 47.78\n"
     ]
    }
   ],
   "source": [
    "# médiane\n",
    "print(\"Médiane de la variable Internet_Users:\", round(Data['Internet_Users'].median(),2))"
   ]
  },
  {
   "cell_type": "code",
   "execution_count": 124,
   "id": "c1f3f76d",
   "metadata": {},
   "outputs": [
    {
     "name": "stdout",
     "output_type": "stream",
     "text": [
      "L'écart type de la variable Internet_Users: 28.38\n"
     ]
    }
   ],
   "source": [
    "# Ecart type:\n",
    "print(\"L'écart type de la variable Internet_Users:\", round(Data['Internet_Users'].std(),2))"
   ]
  },
  {
   "cell_type": "code",
   "execution_count": 125,
   "id": "5336efd5",
   "metadata": {},
   "outputs": [
    {
     "name": "stdout",
     "output_type": "stream",
     "text": [
      "Q1 (0,25): 22.17\n",
      "Q2 (0,5): 47.78\n",
      "Q3 (0,75): 73.3\n"
     ]
    }
   ],
   "source": [
    "# Calcul des quantiles de distribution:\n",
    "Q1=round(Data['Internet_Users'].quantile(0.25),2)\n",
    "Q2=round(Data['Internet_Users'].quantile(0.5),2)\n",
    "Q3=round(Data['Internet_Users'].quantile(0.75),2)\n",
    "print(\"Q1 (0,25):\",Q1)\n",
    "print(\"Q2 (0,5):\",Q2)\n",
    "print(\"Q3 (0,75):\",Q3)"
   ]
  },
  {
   "cell_type": "markdown",
   "id": "75808013",
   "metadata": {},
   "source": [
    "# <a name=\"C112\">2.1.2 Variable Population15to24</a>"
   ]
  },
  {
   "cell_type": "markdown",
   "id": "8945c93a",
   "metadata": {},
   "source": [
    "Calcul des indicateurs statistiques pour la variable Population15to24 (nombre d'habitants âgés de 15 à 24 ans)"
   ]
  },
  {
   "cell_type": "code",
   "execution_count": 126,
   "id": "8266e9f6",
   "metadata": {},
   "outputs": [
    {
     "name": "stdout",
     "output_type": "stream",
     "text": [
      "Moyenne de la variable Population15to24: 7686035 habitants\n"
     ]
    }
   ],
   "source": [
    "# moyenne\n",
    "print(\"Moyenne de la variable Population15to24:\", int(Data['Population15to24'].mean()),\"habitants\")"
   ]
  },
  {
   "cell_type": "code",
   "execution_count": 127,
   "id": "176dc139",
   "metadata": {},
   "outputs": [
    {
     "name": "stdout",
     "output_type": "stream",
     "text": [
      "Médiane de la variable Population15to24: 1984050 habitants\n"
     ]
    }
   ],
   "source": [
    "# médiane\n",
    "print(\"Médiane de la variable Population15to24:\", int(Data['Population15to24'].median()),\"habitants\")"
   ]
  },
  {
   "cell_type": "code",
   "execution_count": 128,
   "id": "8298b227",
   "metadata": {},
   "outputs": [
    {
     "name": "stdout",
     "output_type": "stream",
     "text": [
      "L'écart type de la variable Population15to24: 25754919\n"
     ]
    }
   ],
   "source": [
    "# Ecart type:\n",
    "print(\"L'écart type de la variable Population15to24:\", int(Data['Population15to24'].std()))"
   ]
  },
  {
   "cell_type": "code",
   "execution_count": 129,
   "id": "69388cad",
   "metadata": {},
   "outputs": [
    {
     "name": "stdout",
     "output_type": "stream",
     "text": [
      "Q1 Population15to24 (0,25): 22.17\n",
      "Q2 Population15to24 (0,5): 47.78\n",
      "Q3 Population15to24 (0,75): 73.3\n"
     ]
    }
   ],
   "source": [
    "# Calcul des quantiles de distribution:\n",
    "Q1_pop=Data['Population15to24'].quantile(0.25)\n",
    "Q2_pop=Data['Population15to24'].quantile(0.5)\n",
    "Q3_pop=Data['Population15to24'].quantile(0.75)\n",
    "IQ_pop=Q3_pop-Q1_pop\n",
    "print(\"Q1 Population15to24 (0,25):\",Q1)\n",
    "print(\"Q2 Population15to24 (0,5):\",Q2)\n",
    "print(\"Q3 Population15to24 (0,75):\",Q3)"
   ]
  },
  {
   "cell_type": "markdown",
   "id": "3351d831",
   "metadata": {},
   "source": [
    "# <a name=\"C113\">2.1.3 Variable Enrolment_Secondary</a>"
   ]
  },
  {
   "cell_type": "markdown",
   "id": "56041397",
   "metadata": {},
   "source": [
    "Calcul des indicateurs statistiques pour la variable Enrolment_Secondary (nombre d'élèves inscrits dans le secondaire)"
   ]
  },
  {
   "cell_type": "code",
   "execution_count": 130,
   "id": "4c53e4d6",
   "metadata": {},
   "outputs": [
    {
     "name": "stdout",
     "output_type": "stream",
     "text": [
      "Moyenne de la variable Enrolment_Secondary: 3705644 élèves\n"
     ]
    }
   ],
   "source": [
    "# moyenne\n",
    "print(\"Moyenne de la variable Enrolment_Secondary:\", int(Data['Enrolment_Secondary'].mean()),\"élèves\")"
   ]
  },
  {
   "cell_type": "code",
   "execution_count": 131,
   "id": "0f7007e2",
   "metadata": {},
   "outputs": [
    {
     "name": "stdout",
     "output_type": "stream",
     "text": [
      "Médiane de la variable Enrolment_Secondary: 802188 élèves\n"
     ]
    }
   ],
   "source": [
    "# médiane\n",
    "print(\"Médiane de la variable Enrolment_Secondary:\", int(Data['Enrolment_Secondary'].median()),\"élèves\")"
   ]
  },
  {
   "cell_type": "code",
   "execution_count": 132,
   "id": "793a89dc",
   "metadata": {},
   "outputs": [
    {
     "name": "stdout",
     "output_type": "stream",
     "text": [
      "L'écart type de la variable Enrolment_Secondary: 12818137\n"
     ]
    }
   ],
   "source": [
    "# Ecart type:\n",
    "print(\"L'écart type de la variable Enrolment_Secondary:\", int(Data['Enrolment_Secondary'].std()))"
   ]
  },
  {
   "cell_type": "code",
   "execution_count": 133,
   "id": "fa5625ad",
   "metadata": {},
   "outputs": [
    {
     "name": "stdout",
     "output_type": "stream",
     "text": [
      "Q1 Enrolment_Secondary (0,25): 306813.25\n",
      "Q2 Enrolment_Secondary (0,5): 802188.5\n",
      "Q3 Enrolment_Secondary (0,75): 2614519.5\n"
     ]
    }
   ],
   "source": [
    "# Calcul des quantiles de distribution:\n",
    "Q1_sec=Data['Enrolment_Secondary'].quantile(0.25)\n",
    "Q2_sec=Data['Enrolment_Secondary'].quantile(0.5)\n",
    "Q3_sec=Data['Enrolment_Secondary'].quantile(0.75)\n",
    "IQ_sec=Q3_sec-Q1_sec\n",
    "print(\"Q1 Enrolment_Secondary (0,25):\",Q1_sec)\n",
    "print(\"Q2 Enrolment_Secondary (0,5):\",Q2_sec)\n",
    "print(\"Q3 Enrolment_Secondary (0,75):\",Q3_sec)"
   ]
  },
  {
   "cell_type": "markdown",
   "id": "e92ca79c",
   "metadata": {},
   "source": [
    "# <a name=\"C114\">2.1.4 Variable Enrolment_Tertiary</a>"
   ]
  },
  {
   "cell_type": "markdown",
   "id": "6eaa653d",
   "metadata": {},
   "source": [
    "Calcul des indicateurs statistiques pour la variable Enrolment_Tertiary (nombre d'élèves inscrits dans l'enseignement supérieur)"
   ]
  },
  {
   "cell_type": "code",
   "execution_count": 134,
   "id": "0c7f5cc9",
   "metadata": {},
   "outputs": [
    {
     "name": "stdout",
     "output_type": "stream",
     "text": [
      "Moyenne de la variable Enrolment_Tertiary: 1351752 élèves\n"
     ]
    }
   ],
   "source": [
    "# moyenne\n",
    "print(\"Moyenne de la variable Enrolment_Tertiary:\", int(Data['Enrolment_Tertiary'].mean()),\"élèves\")"
   ]
  },
  {
   "cell_type": "code",
   "execution_count": 135,
   "id": "59525b1a",
   "metadata": {},
   "outputs": [
    {
     "name": "stdout",
     "output_type": "stream",
     "text": [
      "Médiane de la variable Enrolment_Tertiary: 258380 élèves\n"
     ]
    }
   ],
   "source": [
    "# médiane\n",
    "print(\"Médiane de la variable Enrolment_Tertiary:\", int(Data['Enrolment_Tertiary'].median()),\"élèves\")"
   ]
  },
  {
   "cell_type": "code",
   "execution_count": 136,
   "id": "97ed12bf",
   "metadata": {},
   "outputs": [
    {
     "name": "stdout",
     "output_type": "stream",
     "text": [
      "L'écart type de la variable Enrolment_Tertiary: 4655468\n"
     ]
    }
   ],
   "source": [
    "# Ecart type:\n",
    "print(\"L'écart type de la variable Enrolment_Tertiary:\", int(Data['Enrolment_Tertiary'].std()))"
   ]
  },
  {
   "cell_type": "code",
   "execution_count": 137,
   "id": "b3fbbd28",
   "metadata": {},
   "outputs": [
    {
     "name": "stdout",
     "output_type": "stream",
     "text": [
      "Q1 Enrolment_Tertiary (0,25): 93701.5\n",
      "Q2 Enrolment_Tertiary (0,5): 258380.5\n",
      "Q3 Enrolment_Tertiary (0,75): 761100.5\n"
     ]
    }
   ],
   "source": [
    "# Calcul des quantiles de distribution:\n",
    "Q1_ter=Data['Enrolment_Tertiary'].quantile(0.25)\n",
    "Q2_ter=Data['Enrolment_Tertiary'].quantile(0.5)\n",
    "Q3_ter=Data['Enrolment_Tertiary'].quantile(0.75)\n",
    "IQ_ter=Q3_ter-Q1_ter\n",
    "print(\"Q1 Enrolment_Tertiary (0,25):\",Q1_ter)\n",
    "print(\"Q2 Enrolment_Tertiary (0,5):\",Q2_ter)\n",
    "print(\"Q3 Enrolment_Tertiary (0,75):\",Q3_ter)"
   ]
  },
  {
   "cell_type": "markdown",
   "id": "3c1ee456",
   "metadata": {},
   "source": [
    "# <a name=\"C115\">2.1.5 Variable PIB_hab</a>"
   ]
  },
  {
   "cell_type": "code",
   "execution_count": 138,
   "id": "471a9a3d",
   "metadata": {},
   "outputs": [
    {
     "name": "stdout",
     "output_type": "stream",
     "text": [
      "Moyenne de la variable PIB_hab: 11612 dollars\n"
     ]
    }
   ],
   "source": [
    "# moyenne\n",
    "print(\"Moyenne de la variable PIB_hab:\", int(Data['PIB_hab'].mean()),\"dollars\")"
   ]
  },
  {
   "cell_type": "code",
   "execution_count": 139,
   "id": "8edf8d61",
   "metadata": {},
   "outputs": [
    {
     "name": "stdout",
     "output_type": "stream",
     "text": [
      "Médiane de la variable PIB_hab: 4185 dollars\n"
     ]
    }
   ],
   "source": [
    "# médiane\n",
    "print(\"Médiane de la variable PIB_hab:\", int(Data['PIB_hab'].median()),\"dollars\")"
   ]
  },
  {
   "cell_type": "code",
   "execution_count": 140,
   "id": "99ffe436",
   "metadata": {},
   "outputs": [
    {
     "name": "stdout",
     "output_type": "stream",
     "text": [
      "L'écart type de la variable PIB_hab: 16303\n"
     ]
    }
   ],
   "source": [
    "# Ecart type:\n",
    "print(\"L'écart type de la variable PIB_hab:\", int(Data['PIB_hab'].std()))"
   ]
  },
  {
   "cell_type": "code",
   "execution_count": 141,
   "id": "3d32ae6c",
   "metadata": {},
   "outputs": [
    {
     "name": "stdout",
     "output_type": "stream",
     "text": [
      "Q1 PIB (0,25): 1397.67\n",
      "Q2 PIB (0,5): 4185.16\n",
      "Q3 PIB (0,75): 13860.86\n"
     ]
    }
   ],
   "source": [
    "# Calcul des quantiles de distribution:\n",
    "Q1_PIB=round(Data['PIB_hab'].quantile(0.25),2)\n",
    "Q2_PIB=round(Data['PIB_hab'].quantile(0.5),2)\n",
    "Q3_PIB=round(Data['PIB_hab'].quantile(0.75),2)\n",
    "IQ_PIB=Q3_PIB-Q1_PIB\n",
    "print(\"Q1 PIB (0,25):\",Q1_PIB)\n",
    "print(\"Q2 PIB (0,5):\",Q2_PIB)\n",
    "print(\"Q3 PIB (0,75):\",Q3_PIB)"
   ]
  },
  {
   "cell_type": "markdown",
   "id": "878ef490",
   "metadata": {},
   "source": [
    "# <a name=\"C12\">2.2 Détection et traitement des outliers</a>"
   ]
  },
  {
   "cell_type": "markdown",
   "id": "dd364007",
   "metadata": {},
   "source": [
    "# <a name=\"C121\">2.2.1 Approche statistique (méthode interquartile)</a>"
   ]
  },
  {
   "cell_type": "markdown",
   "id": "e0fc0bd4",
   "metadata": {},
   "source": [
    "L'écart interquartile est la différence entre le 3e quartile et le 1er quartile (IQ=Q3−Q1)\n",
    "\n",
    "Des valeurs sont considérées comme des outliers si au-dessous de  Q1−1.5IQ ou au-dessus de Q3+1.5IQ\n",
    "\n",
    "Vérifions la présence d'outliers en affichant les boxplot pour chaque variable."
   ]
  },
  {
   "cell_type": "code",
   "execution_count": 142,
   "id": "1345e678",
   "metadata": {},
   "outputs": [
    {
     "data": {
      "image/png": "[encoded data removed]",
      "text/plain": [
       "<Figure size 640x480 with 1 Axes>"
      ]
     },
     "metadata": {},
     "output_type": "display_data"
    }
   ],
   "source": [
    "Data.boxplot(column=\"Internet_Users\", vert=True)\n",
    "plt.title(\"Variable Internet_Users: pas d'outliers\", fontweight='bold', color='green')\n",
    "plt.ylabel(\"Nombre d'utilsateurs internet pour 100 habitants\")\n",
    "plt.show()"
   ]
  },
  {
   "cell_type": "code",
   "execution_count": 143,
   "id": "a5e5b015",
   "metadata": {},
   "outputs": [
    {
     "data": {
      "image/png": "[encoded data removed]",
      "text/plain": [
       "<Figure size 640x480 with 1 Axes>"
      ]
     },
     "metadata": {},
     "output_type": "display_data"
    }
   ],
   "source": [
    "Data.boxplot(column=\"Population15to24\", vert=True,flierprops=dict(markerfacecolor='orange', marker='o'))\n",
    "plt.title(\"Population15to24: 17 outliers\", fontweight='bold', color='orange')\n",
    "plt.ylabel(\"Population âgée de 15 à 24 ans(x10 millions)\")\n",
    "plt.ylim(125000,50000000) # pour une meilleure lisibilité, zoom sur 125000 (filtre seuil minimum) et 50 millions => certains outliers n'appraissent pas\n",
    "plt.show()"
   ]
  },
  {
   "cell_type": "code",
   "execution_count": 144,
   "id": "02bb0216",
   "metadata": {},
   "outputs": [
    {
     "data": {
      "text/html": [
       "<div>\n",
       "<style scoped>\n",
       "    .dataframe tbody tr th:only-of-type {\n",
       "        vertical-align: middle;\n",
       "    }\n",
       "\n",
       "    .dataframe tbody tr th {\n",
       "        vertical-align: top;\n",
       "    }\n",
       "\n",
       "    .dataframe thead th {\n",
       "        text-align: right;\n",
       "    }\n",
       "</style>\n",
       "<table border=\"1\" class=\"dataframe\">\n",
       "  <thead>\n",
       "    <tr style=\"text-align: right;\">\n",
       "      <th></th>\n",
       "      <th>Country Code</th>\n",
       "      <th>Country Name</th>\n",
       "      <th>Internet_Users</th>\n",
       "      <th>Population15to24</th>\n",
       "      <th>Enrolment_Secondary</th>\n",
       "      <th>Enrolment_Tertiary</th>\n",
       "      <th>PIB_hab</th>\n",
       "    </tr>\n",
       "  </thead>\n",
       "  <tbody>\n",
       "    <tr>\n",
       "      <th>40</th>\n",
       "      <td>BGD</td>\n",
       "      <td>Bangladesh</td>\n",
       "      <td>18.246938</td>\n",
       "      <td>34400594.0</td>\n",
       "      <td>14566771.0</td>\n",
       "      <td>2068355.0</td>\n",
       "      <td>1358.779029</td>\n",
       "    </tr>\n",
       "    <tr>\n",
       "      <th>51</th>\n",
       "      <td>BRA</td>\n",
       "      <td>Brazil</td>\n",
       "      <td>59.682747</td>\n",
       "      <td>33595574.0</td>\n",
       "      <td>23501784.0</td>\n",
       "      <td>8285475.0</td>\n",
       "      <td>8649.948492</td>\n",
       "    </tr>\n",
       "    <tr>\n",
       "      <th>66</th>\n",
       "      <td>CHN</td>\n",
       "      <td>China</td>\n",
       "      <td>53.200000</td>\n",
       "      <td>197026759.0</td>\n",
       "      <td>86127200.0</td>\n",
       "      <td>43367392.0</td>\n",
       "      <td>8123.180873</td>\n",
       "    </tr>\n",
       "    <tr>\n",
       "      <th>69</th>\n",
       "      <td>COD</td>\n",
       "      <td>Congo, Dem. Rep.</td>\n",
       "      <td>6.209974</td>\n",
       "      <td>15535095.0</td>\n",
       "      <td>4388456.0</td>\n",
       "      <td>442979.0</td>\n",
       "      <td>405.542501</td>\n",
       "    </tr>\n",
       "    <tr>\n",
       "      <th>83</th>\n",
       "      <td>EGY</td>\n",
       "      <td>Egypt, Arab Rep.</td>\n",
       "      <td>39.213813</td>\n",
       "      <td>15377746.0</td>\n",
       "      <td>8208329.0</td>\n",
       "      <td>2868912.0</td>\n",
       "      <td>3477.851743</td>\n",
       "    </tr>\n",
       "    <tr>\n",
       "      <th>88</th>\n",
       "      <td>ETH</td>\n",
       "      <td>Ethiopia</td>\n",
       "      <td>15.366924</td>\n",
       "      <td>21074230.0</td>\n",
       "      <td>5028678.0</td>\n",
       "      <td>757175.0</td>\n",
       "      <td>706.757475</td>\n",
       "    </tr>\n",
       "    <tr>\n",
       "      <th>113</th>\n",
       "      <td>IND</td>\n",
       "      <td>India</td>\n",
       "      <td>29.547163</td>\n",
       "      <td>244120201.0</td>\n",
       "      <td>129542056.0</td>\n",
       "      <td>32107420.0</td>\n",
       "      <td>1709.591808</td>\n",
       "    </tr>\n",
       "    <tr>\n",
       "      <th>114</th>\n",
       "      <td>IDN</td>\n",
       "      <td>Indonesia</td>\n",
       "      <td>25.366301</td>\n",
       "      <td>41819264.0</td>\n",
       "      <td>23756316.0</td>\n",
       "      <td>5107999.0</td>\n",
       "      <td>3570.294888</td>\n",
       "    </tr>\n",
       "    <tr>\n",
       "      <th>115</th>\n",
       "      <td>IRN</td>\n",
       "      <td>Iran, Islamic Rep.</td>\n",
       "      <td>53.226773</td>\n",
       "      <td>13556577.0</td>\n",
       "      <td>5712478.0</td>\n",
       "      <td>4802721.0</td>\n",
       "      <td>5219.109408</td>\n",
       "    </tr>\n",
       "    <tr>\n",
       "      <th>152</th>\n",
       "      <td>MEX</td>\n",
       "      <td>Mexico</td>\n",
       "      <td>59.540446</td>\n",
       "      <td>20336734.0</td>\n",
       "      <td>12993322.0</td>\n",
       "      <td>3419391.0</td>\n",
       "      <td>8208.555984</td>\n",
       "    </tr>\n",
       "    <tr>\n",
       "      <th>169</th>\n",
       "      <td>NGA</td>\n",
       "      <td>Nigeria</td>\n",
       "      <td>25.670000</td>\n",
       "      <td>36659023.0</td>\n",
       "      <td>12532753.0</td>\n",
       "      <td>1513371.0</td>\n",
       "      <td>2175.673442</td>\n",
       "    </tr>\n",
       "    <tr>\n",
       "      <th>173</th>\n",
       "      <td>PAK</td>\n",
       "      <td>Pakistan</td>\n",
       "      <td>15.514558</td>\n",
       "      <td>39080811.0</td>\n",
       "      <td>12077917.0</td>\n",
       "      <td>1871575.0</td>\n",
       "      <td>1443.625016</td>\n",
       "    </tr>\n",
       "    <tr>\n",
       "      <th>179</th>\n",
       "      <td>PHL</td>\n",
       "      <td>Philippines</td>\n",
       "      <td>55.500000</td>\n",
       "      <td>19278458.0</td>\n",
       "      <td>7220389.0</td>\n",
       "      <td>3563396.0</td>\n",
       "      <td>2951.071929</td>\n",
       "    </tr>\n",
       "    <tr>\n",
       "      <th>185</th>\n",
       "      <td>RUS</td>\n",
       "      <td>Russian Federation</td>\n",
       "      <td>76.409085</td>\n",
       "      <td>14661984.0</td>\n",
       "      <td>9384610.0</td>\n",
       "      <td>6592416.0</td>\n",
       "      <td>8748.364504</td>\n",
       "    </tr>\n",
       "    <tr>\n",
       "      <th>223</th>\n",
       "      <td>TUR</td>\n",
       "      <td>Turkey</td>\n",
       "      <td>58.347734</td>\n",
       "      <td>13930222.0</td>\n",
       "      <td>10969178.0</td>\n",
       "      <td>6062886.0</td>\n",
       "      <td>10862.600399</td>\n",
       "    </tr>\n",
       "    <tr>\n",
       "      <th>231</th>\n",
       "      <td>USA</td>\n",
       "      <td>United States</td>\n",
       "      <td>76.176737</td>\n",
       "      <td>45147517.0</td>\n",
       "      <td>24229776.0</td>\n",
       "      <td>19531728.0</td>\n",
       "      <td>57638.159088</td>\n",
       "    </tr>\n",
       "    <tr>\n",
       "      <th>236</th>\n",
       "      <td>VNM</td>\n",
       "      <td>Vietnam</td>\n",
       "      <td>46.500000</td>\n",
       "      <td>16939813.0</td>\n",
       "      <td>6818774.0</td>\n",
       "      <td>2466643.0</td>\n",
       "      <td>2214.387662</td>\n",
       "    </tr>\n",
       "  </tbody>\n",
       "</table>\n",
       "</div>"
      ],
      "text/plain": [
       "    Country Code        Country Name  Internet_Users  Population15to24  \\\n",
       "40           BGD          Bangladesh       18.246938        34400594.0   \n",
       "51           BRA              Brazil       59.682747        33595574.0   \n",
       "66           CHN               China       53.200000       197026759.0   \n",
       "69           COD    Congo, Dem. Rep.        6.209974        15535095.0   \n",
       "83           EGY    Egypt, Arab Rep.       39.213813        15377746.0   \n",
       "88           ETH            Ethiopia       15.366924        21074230.0   \n",
       "113          IND               India       29.547163       244120201.0   \n",
       "114          IDN           Indonesia       25.366301        41819264.0   \n",
       "115          IRN  Iran, Islamic Rep.       53.226773        13556577.0   \n",
       "152          MEX              Mexico       59.540446        20336734.0   \n",
       "169          NGA             Nigeria       25.670000        36659023.0   \n",
       "173          PAK            Pakistan       15.514558        39080811.0   \n",
       "179          PHL         Philippines       55.500000        19278458.0   \n",
       "185          RUS  Russian Federation       76.409085        14661984.0   \n",
       "223          TUR              Turkey       58.347734        13930222.0   \n",
       "231          USA       United States       76.176737        45147517.0   \n",
       "236          VNM             Vietnam       46.500000        16939813.0   \n",
       "\n",
       "     Enrolment_Secondary  Enrolment_Tertiary       PIB_hab  \n",
       "40            14566771.0           2068355.0   1358.779029  \n",
       "51            23501784.0           8285475.0   8649.948492  \n",
       "66            86127200.0          43367392.0   8123.180873  \n",
       "69             4388456.0            442979.0    405.542501  \n",
       "83             8208329.0           2868912.0   3477.851743  \n",
       "88             5028678.0            757175.0    706.757475  \n",
       "113          129542056.0          32107420.0   1709.591808  \n",
       "114           23756316.0           5107999.0   3570.294888  \n",
       "115            5712478.0           4802721.0   5219.109408  \n",
       "152           12993322.0           3419391.0   8208.555984  \n",
       "169           12532753.0           1513371.0   2175.673442  \n",
       "173           12077917.0           1871575.0   1443.625016  \n",
       "179            7220389.0           3563396.0   2951.071929  \n",
       "185            9384610.0           6592416.0   8748.364504  \n",
       "223           10969178.0           6062886.0  10862.600399  \n",
       "231           24229776.0          19531728.0  57638.159088  \n",
       "236            6818774.0           2466643.0   2214.387662  "
      ]
     },
     "execution_count": 144,
     "metadata": {},
     "output_type": "execute_result"
    }
   ],
   "source": [
    "Data[Data['Population15to24'] > (Q3_pop + 1.5*IQ_pop)]"
   ]
  },
  {
   "cell_type": "code",
   "execution_count": 145,
   "id": "89bee22a",
   "metadata": {},
   "outputs": [
    {
     "data": {
      "image/png": "[encoded data removed]",
      "text/plain": [
       "<Figure size 640x480 with 1 Axes>"
      ]
     },
     "metadata": {},
     "output_type": "display_data"
    }
   ],
   "source": [
    "Data.boxplot(column=\"Enrolment_Secondary\", vert=True,flierprops=dict(markerfacecolor='orange', marker='o'))\n",
    "plt.title(\"Enrolment_Secondary: 18 outliers\", fontweight='bold', color='orange')\n",
    "plt.ylabel(\"Elèves inscrits dans le secondaire (x10 millions)\")\n",
    "plt.ylim(0,25000000) # zoom sur 0 - 25 millions\n",
    "plt.show()"
   ]
  },
  {
   "cell_type": "code",
   "execution_count": 146,
   "id": "2a61289e",
   "metadata": {},
   "outputs": [
    {
     "data": {
      "text/html": [
       "<div>\n",
       "<style scoped>\n",
       "    .dataframe tbody tr th:only-of-type {\n",
       "        vertical-align: middle;\n",
       "    }\n",
       "\n",
       "    .dataframe tbody tr th {\n",
       "        vertical-align: top;\n",
       "    }\n",
       "\n",
       "    .dataframe thead th {\n",
       "        text-align: right;\n",
       "    }\n",
       "</style>\n",
       "<table border=\"1\" class=\"dataframe\">\n",
       "  <thead>\n",
       "    <tr style=\"text-align: right;\">\n",
       "      <th></th>\n",
       "      <th>Country Code</th>\n",
       "      <th>Country Name</th>\n",
       "      <th>Internet_Users</th>\n",
       "      <th>Population15to24</th>\n",
       "      <th>Enrolment_Secondary</th>\n",
       "      <th>Enrolment_Tertiary</th>\n",
       "      <th>PIB_hab</th>\n",
       "    </tr>\n",
       "  </thead>\n",
       "  <tbody>\n",
       "    <tr>\n",
       "      <th>40</th>\n",
       "      <td>BGD</td>\n",
       "      <td>Bangladesh</td>\n",
       "      <td>18.246938</td>\n",
       "      <td>34400594.0</td>\n",
       "      <td>14566771.0</td>\n",
       "      <td>2068355.00</td>\n",
       "      <td>1358.779029</td>\n",
       "    </tr>\n",
       "    <tr>\n",
       "      <th>51</th>\n",
       "      <td>BRA</td>\n",
       "      <td>Brazil</td>\n",
       "      <td>59.682747</td>\n",
       "      <td>33595574.0</td>\n",
       "      <td>23501784.0</td>\n",
       "      <td>8285475.00</td>\n",
       "      <td>8649.948492</td>\n",
       "    </tr>\n",
       "    <tr>\n",
       "      <th>66</th>\n",
       "      <td>CHN</td>\n",
       "      <td>China</td>\n",
       "      <td>53.200000</td>\n",
       "      <td>197026759.0</td>\n",
       "      <td>86127200.0</td>\n",
       "      <td>43367392.00</td>\n",
       "      <td>8123.180873</td>\n",
       "    </tr>\n",
       "    <tr>\n",
       "      <th>83</th>\n",
       "      <td>EGY</td>\n",
       "      <td>Egypt, Arab Rep.</td>\n",
       "      <td>39.213813</td>\n",
       "      <td>15377746.0</td>\n",
       "      <td>8208329.0</td>\n",
       "      <td>2868912.00</td>\n",
       "      <td>3477.851743</td>\n",
       "    </tr>\n",
       "    <tr>\n",
       "      <th>97</th>\n",
       "      <td>DEU</td>\n",
       "      <td>Germany</td>\n",
       "      <td>89.647101</td>\n",
       "      <td>8682394.0</td>\n",
       "      <td>7112949.5</td>\n",
       "      <td>2977781.00</td>\n",
       "      <td>42069.597987</td>\n",
       "    </tr>\n",
       "    <tr>\n",
       "      <th>113</th>\n",
       "      <td>IND</td>\n",
       "      <td>India</td>\n",
       "      <td>29.547163</td>\n",
       "      <td>244120201.0</td>\n",
       "      <td>129542056.0</td>\n",
       "      <td>32107420.00</td>\n",
       "      <td>1709.591808</td>\n",
       "    </tr>\n",
       "    <tr>\n",
       "      <th>114</th>\n",
       "      <td>IDN</td>\n",
       "      <td>Indonesia</td>\n",
       "      <td>25.366301</td>\n",
       "      <td>41819264.0</td>\n",
       "      <td>23756316.0</td>\n",
       "      <td>5107999.00</td>\n",
       "      <td>3570.294888</td>\n",
       "    </tr>\n",
       "    <tr>\n",
       "      <th>122</th>\n",
       "      <td>JPN</td>\n",
       "      <td>Japan</td>\n",
       "      <td>92.000000</td>\n",
       "      <td>12157426.0</td>\n",
       "      <td>7227485.0</td>\n",
       "      <td>3862460.00</td>\n",
       "      <td>38900.569306</td>\n",
       "    </tr>\n",
       "    <tr>\n",
       "      <th>152</th>\n",
       "      <td>MEX</td>\n",
       "      <td>Mexico</td>\n",
       "      <td>59.540446</td>\n",
       "      <td>20336734.0</td>\n",
       "      <td>12993322.0</td>\n",
       "      <td>3419391.00</td>\n",
       "      <td>8208.555984</td>\n",
       "    </tr>\n",
       "    <tr>\n",
       "      <th>169</th>\n",
       "      <td>NGA</td>\n",
       "      <td>Nigeria</td>\n",
       "      <td>25.670000</td>\n",
       "      <td>36659023.0</td>\n",
       "      <td>12532753.0</td>\n",
       "      <td>1513371.00</td>\n",
       "      <td>2175.673442</td>\n",
       "    </tr>\n",
       "    <tr>\n",
       "      <th>173</th>\n",
       "      <td>PAK</td>\n",
       "      <td>Pakistan</td>\n",
       "      <td>15.514558</td>\n",
       "      <td>39080811.0</td>\n",
       "      <td>12077917.0</td>\n",
       "      <td>1871575.00</td>\n",
       "      <td>1443.625016</td>\n",
       "    </tr>\n",
       "    <tr>\n",
       "      <th>179</th>\n",
       "      <td>PHL</td>\n",
       "      <td>Philippines</td>\n",
       "      <td>55.500000</td>\n",
       "      <td>19278458.0</td>\n",
       "      <td>7220389.0</td>\n",
       "      <td>3563396.00</td>\n",
       "      <td>2951.071929</td>\n",
       "    </tr>\n",
       "    <tr>\n",
       "      <th>185</th>\n",
       "      <td>RUS</td>\n",
       "      <td>Russian Federation</td>\n",
       "      <td>76.409085</td>\n",
       "      <td>14661984.0</td>\n",
       "      <td>9384610.0</td>\n",
       "      <td>6592416.00</td>\n",
       "      <td>8748.364504</td>\n",
       "    </tr>\n",
       "    <tr>\n",
       "      <th>217</th>\n",
       "      <td>THA</td>\n",
       "      <td>Thailand</td>\n",
       "      <td>47.504966</td>\n",
       "      <td>9149718.0</td>\n",
       "      <td>6757174.0</td>\n",
       "      <td>2235450.00</td>\n",
       "      <td>5910.620932</td>\n",
       "    </tr>\n",
       "    <tr>\n",
       "      <th>223</th>\n",
       "      <td>TUR</td>\n",
       "      <td>Turkey</td>\n",
       "      <td>58.347734</td>\n",
       "      <td>13930222.0</td>\n",
       "      <td>10969178.0</td>\n",
       "      <td>6062886.00</td>\n",
       "      <td>10862.600399</td>\n",
       "    </tr>\n",
       "    <tr>\n",
       "      <th>230</th>\n",
       "      <td>GBR</td>\n",
       "      <td>United Kingdom</td>\n",
       "      <td>94.775801</td>\n",
       "      <td>7731522.0</td>\n",
       "      <td>6556991.5</td>\n",
       "      <td>2352932.75</td>\n",
       "      <td>40341.408246</td>\n",
       "    </tr>\n",
       "    <tr>\n",
       "      <th>231</th>\n",
       "      <td>USA</td>\n",
       "      <td>United States</td>\n",
       "      <td>76.176737</td>\n",
       "      <td>45147517.0</td>\n",
       "      <td>24229776.0</td>\n",
       "      <td>19531728.00</td>\n",
       "      <td>57638.159088</td>\n",
       "    </tr>\n",
       "    <tr>\n",
       "      <th>236</th>\n",
       "      <td>VNM</td>\n",
       "      <td>Vietnam</td>\n",
       "      <td>46.500000</td>\n",
       "      <td>16939813.0</td>\n",
       "      <td>6818774.0</td>\n",
       "      <td>2466643.00</td>\n",
       "      <td>2214.387662</td>\n",
       "    </tr>\n",
       "  </tbody>\n",
       "</table>\n",
       "</div>"
      ],
      "text/plain": [
       "    Country Code        Country Name  Internet_Users  Population15to24  \\\n",
       "40           BGD          Bangladesh       18.246938        34400594.0   \n",
       "51           BRA              Brazil       59.682747        33595574.0   \n",
       "66           CHN               China       53.200000       197026759.0   \n",
       "83           EGY    Egypt, Arab Rep.       39.213813        15377746.0   \n",
       "97           DEU             Germany       89.647101         8682394.0   \n",
       "113          IND               India       29.547163       244120201.0   \n",
       "114          IDN           Indonesia       25.366301        41819264.0   \n",
       "122          JPN               Japan       92.000000        12157426.0   \n",
       "152          MEX              Mexico       59.540446        20336734.0   \n",
       "169          NGA             Nigeria       25.670000        36659023.0   \n",
       "173          PAK            Pakistan       15.514558        39080811.0   \n",
       "179          PHL         Philippines       55.500000        19278458.0   \n",
       "185          RUS  Russian Federation       76.409085        14661984.0   \n",
       "217          THA            Thailand       47.504966         9149718.0   \n",
       "223          TUR              Turkey       58.347734        13930222.0   \n",
       "230          GBR      United Kingdom       94.775801         7731522.0   \n",
       "231          USA       United States       76.176737        45147517.0   \n",
       "236          VNM             Vietnam       46.500000        16939813.0   \n",
       "\n",
       "     Enrolment_Secondary  Enrolment_Tertiary       PIB_hab  \n",
       "40            14566771.0          2068355.00   1358.779029  \n",
       "51            23501784.0          8285475.00   8649.948492  \n",
       "66            86127200.0         43367392.00   8123.180873  \n",
       "83             8208329.0          2868912.00   3477.851743  \n",
       "97             7112949.5          2977781.00  42069.597987  \n",
       "113          129542056.0         32107420.00   1709.591808  \n",
       "114           23756316.0          5107999.00   3570.294888  \n",
       "122            7227485.0          3862460.00  38900.569306  \n",
       "152           12993322.0          3419391.00   8208.555984  \n",
       "169           12532753.0          1513371.00   2175.673442  \n",
       "173           12077917.0          1871575.00   1443.625016  \n",
       "179            7220389.0          3563396.00   2951.071929  \n",
       "185            9384610.0          6592416.00   8748.364504  \n",
       "217            6757174.0          2235450.00   5910.620932  \n",
       "223           10969178.0          6062886.00  10862.600399  \n",
       "230            6556991.5          2352932.75  40341.408246  \n",
       "231           24229776.0         19531728.00  57638.159088  \n",
       "236            6818774.0          2466643.00   2214.387662  "
      ]
     },
     "execution_count": 146,
     "metadata": {},
     "output_type": "execute_result"
    }
   ],
   "source": [
    "Data[Data['Enrolment_Secondary'] > (Q3_sec + 1.5*IQ_sec)]"
   ]
  },
  {
   "cell_type": "code",
   "execution_count": 147,
   "id": "051c3342",
   "metadata": {},
   "outputs": [
    {
     "data": {
      "text/html": [
       "<div>\n",
       "<style scoped>\n",
       "    .dataframe tbody tr th:only-of-type {\n",
       "        vertical-align: middle;\n",
       "    }\n",
       "\n",
       "    .dataframe tbody tr th {\n",
       "        vertical-align: top;\n",
       "    }\n",
       "\n",
       "    .dataframe thead th {\n",
       "        text-align: right;\n",
       "    }\n",
       "</style>\n",
       "<table border=\"1\" class=\"dataframe\">\n",
       "  <thead>\n",
       "    <tr style=\"text-align: right;\">\n",
       "      <th></th>\n",
       "      <th>Country Code</th>\n",
       "      <th>Country Name</th>\n",
       "      <th>Internet_Users</th>\n",
       "      <th>Population15to24</th>\n",
       "      <th>Enrolment_Secondary</th>\n",
       "      <th>Enrolment_Tertiary</th>\n",
       "      <th>PIB_hab</th>\n",
       "    </tr>\n",
       "  </thead>\n",
       "  <tbody>\n",
       "    <tr>\n",
       "      <th>32</th>\n",
       "      <td>ARG</td>\n",
       "      <td>Argentina</td>\n",
       "      <td>70.150764</td>\n",
       "      <td>6886530.0</td>\n",
       "      <td>4450741.0</td>\n",
       "      <td>2869450.00</td>\n",
       "      <td>12440.320982</td>\n",
       "    </tr>\n",
       "    <tr>\n",
       "      <th>40</th>\n",
       "      <td>BGD</td>\n",
       "      <td>Bangladesh</td>\n",
       "      <td>18.246938</td>\n",
       "      <td>34400594.0</td>\n",
       "      <td>14566771.0</td>\n",
       "      <td>2068355.00</td>\n",
       "      <td>1358.779029</td>\n",
       "    </tr>\n",
       "    <tr>\n",
       "      <th>51</th>\n",
       "      <td>BRA</td>\n",
       "      <td>Brazil</td>\n",
       "      <td>59.682747</td>\n",
       "      <td>33595574.0</td>\n",
       "      <td>23501784.0</td>\n",
       "      <td>8285475.00</td>\n",
       "      <td>8649.948492</td>\n",
       "    </tr>\n",
       "    <tr>\n",
       "      <th>66</th>\n",
       "      <td>CHN</td>\n",
       "      <td>China</td>\n",
       "      <td>53.200000</td>\n",
       "      <td>197026759.0</td>\n",
       "      <td>86127200.0</td>\n",
       "      <td>43367392.00</td>\n",
       "      <td>8123.180873</td>\n",
       "    </tr>\n",
       "    <tr>\n",
       "      <th>67</th>\n",
       "      <td>COL</td>\n",
       "      <td>Colombia</td>\n",
       "      <td>58.136494</td>\n",
       "      <td>8999338.0</td>\n",
       "      <td>4793963.0</td>\n",
       "      <td>2293550.00</td>\n",
       "      <td>5805.605385</td>\n",
       "    </tr>\n",
       "    <tr>\n",
       "      <th>83</th>\n",
       "      <td>EGY</td>\n",
       "      <td>Egypt, Arab Rep.</td>\n",
       "      <td>39.213813</td>\n",
       "      <td>15377746.0</td>\n",
       "      <td>8208329.0</td>\n",
       "      <td>2868912.00</td>\n",
       "      <td>3477.851743</td>\n",
       "    </tr>\n",
       "    <tr>\n",
       "      <th>92</th>\n",
       "      <td>FRA</td>\n",
       "      <td>France</td>\n",
       "      <td>85.622200</td>\n",
       "      <td>7567872.0</td>\n",
       "      <td>5947212.0</td>\n",
       "      <td>2388880.00</td>\n",
       "      <td>36854.968280</td>\n",
       "    </tr>\n",
       "    <tr>\n",
       "      <th>97</th>\n",
       "      <td>DEU</td>\n",
       "      <td>Germany</td>\n",
       "      <td>89.647101</td>\n",
       "      <td>8682394.0</td>\n",
       "      <td>7112949.5</td>\n",
       "      <td>2977781.00</td>\n",
       "      <td>42069.597987</td>\n",
       "    </tr>\n",
       "    <tr>\n",
       "      <th>113</th>\n",
       "      <td>IND</td>\n",
       "      <td>India</td>\n",
       "      <td>29.547163</td>\n",
       "      <td>244120201.0</td>\n",
       "      <td>129542056.0</td>\n",
       "      <td>32107420.00</td>\n",
       "      <td>1709.591808</td>\n",
       "    </tr>\n",
       "    <tr>\n",
       "      <th>114</th>\n",
       "      <td>IDN</td>\n",
       "      <td>Indonesia</td>\n",
       "      <td>25.366301</td>\n",
       "      <td>41819264.0</td>\n",
       "      <td>23756316.0</td>\n",
       "      <td>5107999.00</td>\n",
       "      <td>3570.294888</td>\n",
       "    </tr>\n",
       "    <tr>\n",
       "      <th>115</th>\n",
       "      <td>IRN</td>\n",
       "      <td>Iran, Islamic Rep.</td>\n",
       "      <td>53.226773</td>\n",
       "      <td>13556577.0</td>\n",
       "      <td>5712478.0</td>\n",
       "      <td>4802721.00</td>\n",
       "      <td>5219.109408</td>\n",
       "    </tr>\n",
       "    <tr>\n",
       "      <th>120</th>\n",
       "      <td>ITA</td>\n",
       "      <td>Italy</td>\n",
       "      <td>61.324253</td>\n",
       "      <td>5703349.0</td>\n",
       "      <td>4606017.0</td>\n",
       "      <td>1826477.00</td>\n",
       "      <td>30674.836069</td>\n",
       "    </tr>\n",
       "    <tr>\n",
       "      <th>122</th>\n",
       "      <td>JPN</td>\n",
       "      <td>Japan</td>\n",
       "      <td>92.000000</td>\n",
       "      <td>12157426.0</td>\n",
       "      <td>7227485.0</td>\n",
       "      <td>3862460.00</td>\n",
       "      <td>38900.569306</td>\n",
       "    </tr>\n",
       "    <tr>\n",
       "      <th>128</th>\n",
       "      <td>KOR</td>\n",
       "      <td>Korea, Rep.</td>\n",
       "      <td>92.716545</td>\n",
       "      <td>6456561.0</td>\n",
       "      <td>3396766.0</td>\n",
       "      <td>3268099.00</td>\n",
       "      <td>27538.806128</td>\n",
       "    </tr>\n",
       "    <tr>\n",
       "      <th>152</th>\n",
       "      <td>MEX</td>\n",
       "      <td>Mexico</td>\n",
       "      <td>59.540446</td>\n",
       "      <td>20336734.0</td>\n",
       "      <td>12993322.0</td>\n",
       "      <td>3419391.00</td>\n",
       "      <td>8208.555984</td>\n",
       "    </tr>\n",
       "    <tr>\n",
       "      <th>173</th>\n",
       "      <td>PAK</td>\n",
       "      <td>Pakistan</td>\n",
       "      <td>15.514558</td>\n",
       "      <td>39080811.0</td>\n",
       "      <td>12077917.0</td>\n",
       "      <td>1871575.00</td>\n",
       "      <td>1443.625016</td>\n",
       "    </tr>\n",
       "    <tr>\n",
       "      <th>179</th>\n",
       "      <td>PHL</td>\n",
       "      <td>Philippines</td>\n",
       "      <td>55.500000</td>\n",
       "      <td>19278458.0</td>\n",
       "      <td>7220389.0</td>\n",
       "      <td>3563396.00</td>\n",
       "      <td>2951.071929</td>\n",
       "    </tr>\n",
       "    <tr>\n",
       "      <th>180</th>\n",
       "      <td>POL</td>\n",
       "      <td>Poland</td>\n",
       "      <td>73.300700</td>\n",
       "      <td>4404280.0</td>\n",
       "      <td>2641287.0</td>\n",
       "      <td>1762666.00</td>\n",
       "      <td>12421.318909</td>\n",
       "    </tr>\n",
       "    <tr>\n",
       "      <th>185</th>\n",
       "      <td>RUS</td>\n",
       "      <td>Russian Federation</td>\n",
       "      <td>76.409085</td>\n",
       "      <td>14661984.0</td>\n",
       "      <td>9384610.0</td>\n",
       "      <td>6592416.00</td>\n",
       "      <td>8748.364504</td>\n",
       "    </tr>\n",
       "    <tr>\n",
       "      <th>203</th>\n",
       "      <td>ESP</td>\n",
       "      <td>Spain</td>\n",
       "      <td>80.561333</td>\n",
       "      <td>4285743.0</td>\n",
       "      <td>3313127.0</td>\n",
       "      <td>1963924.00</td>\n",
       "      <td>26639.740588</td>\n",
       "    </tr>\n",
       "    <tr>\n",
       "      <th>217</th>\n",
       "      <td>THA</td>\n",
       "      <td>Thailand</td>\n",
       "      <td>47.504966</td>\n",
       "      <td>9149718.0</td>\n",
       "      <td>6757174.0</td>\n",
       "      <td>2235450.00</td>\n",
       "      <td>5910.620932</td>\n",
       "    </tr>\n",
       "    <tr>\n",
       "      <th>223</th>\n",
       "      <td>TUR</td>\n",
       "      <td>Turkey</td>\n",
       "      <td>58.347734</td>\n",
       "      <td>13930222.0</td>\n",
       "      <td>10969178.0</td>\n",
       "      <td>6062886.00</td>\n",
       "      <td>10862.600399</td>\n",
       "    </tr>\n",
       "    <tr>\n",
       "      <th>228</th>\n",
       "      <td>UKR</td>\n",
       "      <td>Ukraine</td>\n",
       "      <td>52.481808</td>\n",
       "      <td>4842803.0</td>\n",
       "      <td>2370298.0</td>\n",
       "      <td>1776190.00</td>\n",
       "      <td>2185.728031</td>\n",
       "    </tr>\n",
       "    <tr>\n",
       "      <th>230</th>\n",
       "      <td>GBR</td>\n",
       "      <td>United Kingdom</td>\n",
       "      <td>94.775801</td>\n",
       "      <td>7731522.0</td>\n",
       "      <td>6556991.5</td>\n",
       "      <td>2352932.75</td>\n",
       "      <td>40341.408246</td>\n",
       "    </tr>\n",
       "    <tr>\n",
       "      <th>231</th>\n",
       "      <td>USA</td>\n",
       "      <td>United States</td>\n",
       "      <td>76.176737</td>\n",
       "      <td>45147517.0</td>\n",
       "      <td>24229776.0</td>\n",
       "      <td>19531728.00</td>\n",
       "      <td>57638.159088</td>\n",
       "    </tr>\n",
       "    <tr>\n",
       "      <th>235</th>\n",
       "      <td>VEN</td>\n",
       "      <td>Venezuela, RB</td>\n",
       "      <td>60.000000</td>\n",
       "      <td>5479911.0</td>\n",
       "      <td>2522661.0</td>\n",
       "      <td>2123041.00</td>\n",
       "      <td>15692.412878</td>\n",
       "    </tr>\n",
       "    <tr>\n",
       "      <th>236</th>\n",
       "      <td>VNM</td>\n",
       "      <td>Vietnam</td>\n",
       "      <td>46.500000</td>\n",
       "      <td>16939813.0</td>\n",
       "      <td>6818774.0</td>\n",
       "      <td>2466643.00</td>\n",
       "      <td>2214.387662</td>\n",
       "    </tr>\n",
       "  </tbody>\n",
       "</table>\n",
       "</div>"
      ],
      "text/plain": [
       "    Country Code        Country Name  Internet_Users  Population15to24  \\\n",
       "32           ARG           Argentina       70.150764         6886530.0   \n",
       "40           BGD          Bangladesh       18.246938        34400594.0   \n",
       "51           BRA              Brazil       59.682747        33595574.0   \n",
       "66           CHN               China       53.200000       197026759.0   \n",
       "67           COL            Colombia       58.136494         8999338.0   \n",
       "83           EGY    Egypt, Arab Rep.       39.213813        15377746.0   \n",
       "92           FRA              France       85.622200         7567872.0   \n",
       "97           DEU             Germany       89.647101         8682394.0   \n",
       "113          IND               India       29.547163       244120201.0   \n",
       "114          IDN           Indonesia       25.366301        41819264.0   \n",
       "115          IRN  Iran, Islamic Rep.       53.226773        13556577.0   \n",
       "120          ITA               Italy       61.324253         5703349.0   \n",
       "122          JPN               Japan       92.000000        12157426.0   \n",
       "128          KOR         Korea, Rep.       92.716545         6456561.0   \n",
       "152          MEX              Mexico       59.540446        20336734.0   \n",
       "173          PAK            Pakistan       15.514558        39080811.0   \n",
       "179          PHL         Philippines       55.500000        19278458.0   \n",
       "180          POL              Poland       73.300700         4404280.0   \n",
       "185          RUS  Russian Federation       76.409085        14661984.0   \n",
       "203          ESP               Spain       80.561333         4285743.0   \n",
       "217          THA            Thailand       47.504966         9149718.0   \n",
       "223          TUR              Turkey       58.347734        13930222.0   \n",
       "228          UKR             Ukraine       52.481808         4842803.0   \n",
       "230          GBR      United Kingdom       94.775801         7731522.0   \n",
       "231          USA       United States       76.176737        45147517.0   \n",
       "235          VEN       Venezuela, RB       60.000000         5479911.0   \n",
       "236          VNM             Vietnam       46.500000        16939813.0   \n",
       "\n",
       "     Enrolment_Secondary  Enrolment_Tertiary       PIB_hab  \n",
       "32             4450741.0          2869450.00  12440.320982  \n",
       "40            14566771.0          2068355.00   1358.779029  \n",
       "51            23501784.0          8285475.00   8649.948492  \n",
       "66            86127200.0         43367392.00   8123.180873  \n",
       "67             4793963.0          2293550.00   5805.605385  \n",
       "83             8208329.0          2868912.00   3477.851743  \n",
       "92             5947212.0          2388880.00  36854.968280  \n",
       "97             7112949.5          2977781.00  42069.597987  \n",
       "113          129542056.0         32107420.00   1709.591808  \n",
       "114           23756316.0          5107999.00   3570.294888  \n",
       "115            5712478.0          4802721.00   5219.109408  \n",
       "120            4606017.0          1826477.00  30674.836069  \n",
       "122            7227485.0          3862460.00  38900.569306  \n",
       "128            3396766.0          3268099.00  27538.806128  \n",
       "152           12993322.0          3419391.00   8208.555984  \n",
       "173           12077917.0          1871575.00   1443.625016  \n",
       "179            7220389.0          3563396.00   2951.071929  \n",
       "180            2641287.0          1762666.00  12421.318909  \n",
       "185            9384610.0          6592416.00   8748.364504  \n",
       "203            3313127.0          1963924.00  26639.740588  \n",
       "217            6757174.0          2235450.00   5910.620932  \n",
       "223           10969178.0          6062886.00  10862.600399  \n",
       "228            2370298.0          1776190.00   2185.728031  \n",
       "230            6556991.5          2352932.75  40341.408246  \n",
       "231           24229776.0         19531728.00  57638.159088  \n",
       "235            2522661.0          2123041.00  15692.412878  \n",
       "236            6818774.0          2466643.00   2214.387662  "
      ]
     },
     "execution_count": 147,
     "metadata": {},
     "output_type": "execute_result"
    }
   ],
   "source": [
    "Data[Data['Enrolment_Tertiary'] > (Q3_ter + 1.5*IQ_ter)]"
   ]
  },
  {
   "cell_type": "code",
   "execution_count": 148,
   "id": "732ad1eb",
   "metadata": {},
   "outputs": [
    {
     "data": {
      "image/png": "[encoded data removed]",
      "text/plain": [
       "<Figure size 640x480 with 1 Axes>"
      ]
     },
     "metadata": {},
     "output_type": "display_data"
    }
   ],
   "source": [
    "Data.boxplot(column=\"Enrolment_Tertiary\", vert=True,flierprops=dict(markerfacecolor='orange', marker='o'))\n",
    "plt.title(\"Enrolment_Tertiary: 27 outliers\", fontweight='bold', color='orange')\n",
    "plt.ylabel(\"Elèves inscrits enseignement supérieur (x10 millions)\")\n",
    "plt.ylim(0,10000000) # zoom sur 0 - 10 millions\n",
    "plt.show()"
   ]
  },
  {
   "cell_type": "code",
   "execution_count": 149,
   "id": "faf37471",
   "metadata": {},
   "outputs": [
    {
     "data": {
      "text/html": [
       "<div>\n",
       "<style scoped>\n",
       "    .dataframe tbody tr th:only-of-type {\n",
       "        vertical-align: middle;\n",
       "    }\n",
       "\n",
       "    .dataframe tbody tr th {\n",
       "        vertical-align: top;\n",
       "    }\n",
       "\n",
       "    .dataframe thead th {\n",
       "        text-align: right;\n",
       "    }\n",
       "</style>\n",
       "<table border=\"1\" class=\"dataframe\">\n",
       "  <thead>\n",
       "    <tr style=\"text-align: right;\">\n",
       "      <th></th>\n",
       "      <th>Country Code</th>\n",
       "      <th>Country Name</th>\n",
       "      <th>Internet_Users</th>\n",
       "      <th>Population15to24</th>\n",
       "      <th>Enrolment_Secondary</th>\n",
       "      <th>Enrolment_Tertiary</th>\n",
       "      <th>PIB_hab</th>\n",
       "    </tr>\n",
       "  </thead>\n",
       "  <tbody>\n",
       "    <tr>\n",
       "      <th>32</th>\n",
       "      <td>ARG</td>\n",
       "      <td>Argentina</td>\n",
       "      <td>70.150764</td>\n",
       "      <td>6886530.0</td>\n",
       "      <td>4450741.0</td>\n",
       "      <td>2869450.00</td>\n",
       "      <td>12440.320982</td>\n",
       "    </tr>\n",
       "    <tr>\n",
       "      <th>40</th>\n",
       "      <td>BGD</td>\n",
       "      <td>Bangladesh</td>\n",
       "      <td>18.246938</td>\n",
       "      <td>34400594.0</td>\n",
       "      <td>14566771.0</td>\n",
       "      <td>2068355.00</td>\n",
       "      <td>1358.779029</td>\n",
       "    </tr>\n",
       "    <tr>\n",
       "      <th>51</th>\n",
       "      <td>BRA</td>\n",
       "      <td>Brazil</td>\n",
       "      <td>59.682747</td>\n",
       "      <td>33595574.0</td>\n",
       "      <td>23501784.0</td>\n",
       "      <td>8285475.00</td>\n",
       "      <td>8649.948492</td>\n",
       "    </tr>\n",
       "    <tr>\n",
       "      <th>66</th>\n",
       "      <td>CHN</td>\n",
       "      <td>China</td>\n",
       "      <td>53.200000</td>\n",
       "      <td>197026759.0</td>\n",
       "      <td>86127200.0</td>\n",
       "      <td>43367392.00</td>\n",
       "      <td>8123.180873</td>\n",
       "    </tr>\n",
       "    <tr>\n",
       "      <th>67</th>\n",
       "      <td>COL</td>\n",
       "      <td>Colombia</td>\n",
       "      <td>58.136494</td>\n",
       "      <td>8999338.0</td>\n",
       "      <td>4793963.0</td>\n",
       "      <td>2293550.00</td>\n",
       "      <td>5805.605385</td>\n",
       "    </tr>\n",
       "    <tr>\n",
       "      <th>83</th>\n",
       "      <td>EGY</td>\n",
       "      <td>Egypt, Arab Rep.</td>\n",
       "      <td>39.213813</td>\n",
       "      <td>15377746.0</td>\n",
       "      <td>8208329.0</td>\n",
       "      <td>2868912.00</td>\n",
       "      <td>3477.851743</td>\n",
       "    </tr>\n",
       "    <tr>\n",
       "      <th>92</th>\n",
       "      <td>FRA</td>\n",
       "      <td>France</td>\n",
       "      <td>85.622200</td>\n",
       "      <td>7567872.0</td>\n",
       "      <td>5947212.0</td>\n",
       "      <td>2388880.00</td>\n",
       "      <td>36854.968280</td>\n",
       "    </tr>\n",
       "    <tr>\n",
       "      <th>97</th>\n",
       "      <td>DEU</td>\n",
       "      <td>Germany</td>\n",
       "      <td>89.647101</td>\n",
       "      <td>8682394.0</td>\n",
       "      <td>7112949.5</td>\n",
       "      <td>2977781.00</td>\n",
       "      <td>42069.597987</td>\n",
       "    </tr>\n",
       "    <tr>\n",
       "      <th>113</th>\n",
       "      <td>IND</td>\n",
       "      <td>India</td>\n",
       "      <td>29.547163</td>\n",
       "      <td>244120201.0</td>\n",
       "      <td>129542056.0</td>\n",
       "      <td>32107420.00</td>\n",
       "      <td>1709.591808</td>\n",
       "    </tr>\n",
       "    <tr>\n",
       "      <th>114</th>\n",
       "      <td>IDN</td>\n",
       "      <td>Indonesia</td>\n",
       "      <td>25.366301</td>\n",
       "      <td>41819264.0</td>\n",
       "      <td>23756316.0</td>\n",
       "      <td>5107999.00</td>\n",
       "      <td>3570.294888</td>\n",
       "    </tr>\n",
       "    <tr>\n",
       "      <th>115</th>\n",
       "      <td>IRN</td>\n",
       "      <td>Iran, Islamic Rep.</td>\n",
       "      <td>53.226773</td>\n",
       "      <td>13556577.0</td>\n",
       "      <td>5712478.0</td>\n",
       "      <td>4802721.00</td>\n",
       "      <td>5219.109408</td>\n",
       "    </tr>\n",
       "    <tr>\n",
       "      <th>120</th>\n",
       "      <td>ITA</td>\n",
       "      <td>Italy</td>\n",
       "      <td>61.324253</td>\n",
       "      <td>5703349.0</td>\n",
       "      <td>4606017.0</td>\n",
       "      <td>1826477.00</td>\n",
       "      <td>30674.836069</td>\n",
       "    </tr>\n",
       "    <tr>\n",
       "      <th>122</th>\n",
       "      <td>JPN</td>\n",
       "      <td>Japan</td>\n",
       "      <td>92.000000</td>\n",
       "      <td>12157426.0</td>\n",
       "      <td>7227485.0</td>\n",
       "      <td>3862460.00</td>\n",
       "      <td>38900.569306</td>\n",
       "    </tr>\n",
       "    <tr>\n",
       "      <th>128</th>\n",
       "      <td>KOR</td>\n",
       "      <td>Korea, Rep.</td>\n",
       "      <td>92.716545</td>\n",
       "      <td>6456561.0</td>\n",
       "      <td>3396766.0</td>\n",
       "      <td>3268099.00</td>\n",
       "      <td>27538.806128</td>\n",
       "    </tr>\n",
       "    <tr>\n",
       "      <th>152</th>\n",
       "      <td>MEX</td>\n",
       "      <td>Mexico</td>\n",
       "      <td>59.540446</td>\n",
       "      <td>20336734.0</td>\n",
       "      <td>12993322.0</td>\n",
       "      <td>3419391.00</td>\n",
       "      <td>8208.555984</td>\n",
       "    </tr>\n",
       "    <tr>\n",
       "      <th>173</th>\n",
       "      <td>PAK</td>\n",
       "      <td>Pakistan</td>\n",
       "      <td>15.514558</td>\n",
       "      <td>39080811.0</td>\n",
       "      <td>12077917.0</td>\n",
       "      <td>1871575.00</td>\n",
       "      <td>1443.625016</td>\n",
       "    </tr>\n",
       "    <tr>\n",
       "      <th>179</th>\n",
       "      <td>PHL</td>\n",
       "      <td>Philippines</td>\n",
       "      <td>55.500000</td>\n",
       "      <td>19278458.0</td>\n",
       "      <td>7220389.0</td>\n",
       "      <td>3563396.00</td>\n",
       "      <td>2951.071929</td>\n",
       "    </tr>\n",
       "    <tr>\n",
       "      <th>180</th>\n",
       "      <td>POL</td>\n",
       "      <td>Poland</td>\n",
       "      <td>73.300700</td>\n",
       "      <td>4404280.0</td>\n",
       "      <td>2641287.0</td>\n",
       "      <td>1762666.00</td>\n",
       "      <td>12421.318909</td>\n",
       "    </tr>\n",
       "    <tr>\n",
       "      <th>185</th>\n",
       "      <td>RUS</td>\n",
       "      <td>Russian Federation</td>\n",
       "      <td>76.409085</td>\n",
       "      <td>14661984.0</td>\n",
       "      <td>9384610.0</td>\n",
       "      <td>6592416.00</td>\n",
       "      <td>8748.364504</td>\n",
       "    </tr>\n",
       "    <tr>\n",
       "      <th>203</th>\n",
       "      <td>ESP</td>\n",
       "      <td>Spain</td>\n",
       "      <td>80.561333</td>\n",
       "      <td>4285743.0</td>\n",
       "      <td>3313127.0</td>\n",
       "      <td>1963924.00</td>\n",
       "      <td>26639.740588</td>\n",
       "    </tr>\n",
       "    <tr>\n",
       "      <th>217</th>\n",
       "      <td>THA</td>\n",
       "      <td>Thailand</td>\n",
       "      <td>47.504966</td>\n",
       "      <td>9149718.0</td>\n",
       "      <td>6757174.0</td>\n",
       "      <td>2235450.00</td>\n",
       "      <td>5910.620932</td>\n",
       "    </tr>\n",
       "    <tr>\n",
       "      <th>223</th>\n",
       "      <td>TUR</td>\n",
       "      <td>Turkey</td>\n",
       "      <td>58.347734</td>\n",
       "      <td>13930222.0</td>\n",
       "      <td>10969178.0</td>\n",
       "      <td>6062886.00</td>\n",
       "      <td>10862.600399</td>\n",
       "    </tr>\n",
       "    <tr>\n",
       "      <th>228</th>\n",
       "      <td>UKR</td>\n",
       "      <td>Ukraine</td>\n",
       "      <td>52.481808</td>\n",
       "      <td>4842803.0</td>\n",
       "      <td>2370298.0</td>\n",
       "      <td>1776190.00</td>\n",
       "      <td>2185.728031</td>\n",
       "    </tr>\n",
       "    <tr>\n",
       "      <th>230</th>\n",
       "      <td>GBR</td>\n",
       "      <td>United Kingdom</td>\n",
       "      <td>94.775801</td>\n",
       "      <td>7731522.0</td>\n",
       "      <td>6556991.5</td>\n",
       "      <td>2352932.75</td>\n",
       "      <td>40341.408246</td>\n",
       "    </tr>\n",
       "    <tr>\n",
       "      <th>231</th>\n",
       "      <td>USA</td>\n",
       "      <td>United States</td>\n",
       "      <td>76.176737</td>\n",
       "      <td>45147517.0</td>\n",
       "      <td>24229776.0</td>\n",
       "      <td>19531728.00</td>\n",
       "      <td>57638.159088</td>\n",
       "    </tr>\n",
       "    <tr>\n",
       "      <th>235</th>\n",
       "      <td>VEN</td>\n",
       "      <td>Venezuela, RB</td>\n",
       "      <td>60.000000</td>\n",
       "      <td>5479911.0</td>\n",
       "      <td>2522661.0</td>\n",
       "      <td>2123041.00</td>\n",
       "      <td>15692.412878</td>\n",
       "    </tr>\n",
       "    <tr>\n",
       "      <th>236</th>\n",
       "      <td>VNM</td>\n",
       "      <td>Vietnam</td>\n",
       "      <td>46.500000</td>\n",
       "      <td>16939813.0</td>\n",
       "      <td>6818774.0</td>\n",
       "      <td>2466643.00</td>\n",
       "      <td>2214.387662</td>\n",
       "    </tr>\n",
       "  </tbody>\n",
       "</table>\n",
       "</div>"
      ],
      "text/plain": [
       "    Country Code        Country Name  Internet_Users  Population15to24  \\\n",
       "32           ARG           Argentina       70.150764         6886530.0   \n",
       "40           BGD          Bangladesh       18.246938        34400594.0   \n",
       "51           BRA              Brazil       59.682747        33595574.0   \n",
       "66           CHN               China       53.200000       197026759.0   \n",
       "67           COL            Colombia       58.136494         8999338.0   \n",
       "83           EGY    Egypt, Arab Rep.       39.213813        15377746.0   \n",
       "92           FRA              France       85.622200         7567872.0   \n",
       "97           DEU             Germany       89.647101         8682394.0   \n",
       "113          IND               India       29.547163       244120201.0   \n",
       "114          IDN           Indonesia       25.366301        41819264.0   \n",
       "115          IRN  Iran, Islamic Rep.       53.226773        13556577.0   \n",
       "120          ITA               Italy       61.324253         5703349.0   \n",
       "122          JPN               Japan       92.000000        12157426.0   \n",
       "128          KOR         Korea, Rep.       92.716545         6456561.0   \n",
       "152          MEX              Mexico       59.540446        20336734.0   \n",
       "173          PAK            Pakistan       15.514558        39080811.0   \n",
       "179          PHL         Philippines       55.500000        19278458.0   \n",
       "180          POL              Poland       73.300700         4404280.0   \n",
       "185          RUS  Russian Federation       76.409085        14661984.0   \n",
       "203          ESP               Spain       80.561333         4285743.0   \n",
       "217          THA            Thailand       47.504966         9149718.0   \n",
       "223          TUR              Turkey       58.347734        13930222.0   \n",
       "228          UKR             Ukraine       52.481808         4842803.0   \n",
       "230          GBR      United Kingdom       94.775801         7731522.0   \n",
       "231          USA       United States       76.176737        45147517.0   \n",
       "235          VEN       Venezuela, RB       60.000000         5479911.0   \n",
       "236          VNM             Vietnam       46.500000        16939813.0   \n",
       "\n",
       "     Enrolment_Secondary  Enrolment_Tertiary       PIB_hab  \n",
       "32             4450741.0          2869450.00  12440.320982  \n",
       "40            14566771.0          2068355.00   1358.779029  \n",
       "51            23501784.0          8285475.00   8649.948492  \n",
       "66            86127200.0         43367392.00   8123.180873  \n",
       "67             4793963.0          2293550.00   5805.605385  \n",
       "83             8208329.0          2868912.00   3477.851743  \n",
       "92             5947212.0          2388880.00  36854.968280  \n",
       "97             7112949.5          2977781.00  42069.597987  \n",
       "113          129542056.0         32107420.00   1709.591808  \n",
       "114           23756316.0          5107999.00   3570.294888  \n",
       "115            5712478.0          4802721.00   5219.109408  \n",
       "120            4606017.0          1826477.00  30674.836069  \n",
       "122            7227485.0          3862460.00  38900.569306  \n",
       "128            3396766.0          3268099.00  27538.806128  \n",
       "152           12993322.0          3419391.00   8208.555984  \n",
       "173           12077917.0          1871575.00   1443.625016  \n",
       "179            7220389.0          3563396.00   2951.071929  \n",
       "180            2641287.0          1762666.00  12421.318909  \n",
       "185            9384610.0          6592416.00   8748.364504  \n",
       "203            3313127.0          1963924.00  26639.740588  \n",
       "217            6757174.0          2235450.00   5910.620932  \n",
       "223           10969178.0          6062886.00  10862.600399  \n",
       "228            2370298.0          1776190.00   2185.728031  \n",
       "230            6556991.5          2352932.75  40341.408246  \n",
       "231           24229776.0         19531728.00  57638.159088  \n",
       "235            2522661.0          2123041.00  15692.412878  \n",
       "236            6818774.0          2466643.00   2214.387662  "
      ]
     },
     "execution_count": 149,
     "metadata": {},
     "output_type": "execute_result"
    }
   ],
   "source": [
    "Data[Data['Enrolment_Tertiary'] > (Q3_ter + 1.5*IQ_ter)]"
   ]
  },
  {
   "cell_type": "code",
   "execution_count": 150,
   "id": "424c7c3c",
   "metadata": {},
   "outputs": [
    {
     "data": {
      "image/png": "[encoded data removed]",
      "text/plain": [
       "<Figure size 640x480 with 1 Axes>"
      ]
     },
     "metadata": {},
     "output_type": "display_data"
    }
   ],
   "source": [
    "Data.boxplot(column=\"PIB_hab\", vert=True,flierprops=dict(markerfacecolor='orange', marker='o'))\n",
    "plt.title(\"PIB_hab:21 outliers\", fontweight='bold', color='orange')\n",
    "plt.ylabel(\"PIB par habitant (en dollars par an)\")\n",
    "plt.show()"
   ]
  },
  {
   "cell_type": "code",
   "execution_count": 151,
   "id": "e427f9c9",
   "metadata": {},
   "outputs": [
    {
     "data": {
      "text/html": [
       "<div>\n",
       "<style scoped>\n",
       "    .dataframe tbody tr th:only-of-type {\n",
       "        vertical-align: middle;\n",
       "    }\n",
       "\n",
       "    .dataframe tbody tr th {\n",
       "        vertical-align: top;\n",
       "    }\n",
       "\n",
       "    .dataframe thead th {\n",
       "        text-align: right;\n",
       "    }\n",
       "</style>\n",
       "<table border=\"1\" class=\"dataframe\">\n",
       "  <thead>\n",
       "    <tr style=\"text-align: right;\">\n",
       "      <th></th>\n",
       "      <th>Country Code</th>\n",
       "      <th>Country Name</th>\n",
       "      <th>Internet_Users</th>\n",
       "      <th>Population15to24</th>\n",
       "      <th>Enrolment_Secondary</th>\n",
       "      <th>Enrolment_Tertiary</th>\n",
       "      <th>PIB_hab</th>\n",
       "    </tr>\n",
       "  </thead>\n",
       "  <tbody>\n",
       "    <tr>\n",
       "      <th>35</th>\n",
       "      <td>AUS</td>\n",
       "      <td>Australia</td>\n",
       "      <td>88.238658</td>\n",
       "      <td>2914620.0</td>\n",
       "      <td>2.371284e+06</td>\n",
       "      <td>1.453521e+06</td>\n",
       "      <td>49927.819509</td>\n",
       "    </tr>\n",
       "    <tr>\n",
       "      <th>36</th>\n",
       "      <td>AUT</td>\n",
       "      <td>Austria</td>\n",
       "      <td>84.323331</td>\n",
       "      <td>964629.0</td>\n",
       "      <td>6.910712e+05</td>\n",
       "      <td>4.259717e+05</td>\n",
       "      <td>44676.345835</td>\n",
       "    </tr>\n",
       "    <tr>\n",
       "      <th>43</th>\n",
       "      <td>BEL</td>\n",
       "      <td>Belgium</td>\n",
       "      <td>86.516500</td>\n",
       "      <td>1241946.0</td>\n",
       "      <td>1.217912e+06</td>\n",
       "      <td>5.047450e+05</td>\n",
       "      <td>41236.266589</td>\n",
       "    </tr>\n",
       "    <tr>\n",
       "      <th>60</th>\n",
       "      <td>CAN</td>\n",
       "      <td>Canada</td>\n",
       "      <td>89.840000</td>\n",
       "      <td>4373511.0</td>\n",
       "      <td>2.697507e+06</td>\n",
       "      <td>1.212161e+06</td>\n",
       "      <td>42157.927991</td>\n",
       "    </tr>\n",
       "    <tr>\n",
       "      <th>78</th>\n",
       "      <td>DNK</td>\n",
       "      <td>Denmark</td>\n",
       "      <td>96.967785</td>\n",
       "      <td>710024.0</td>\n",
       "      <td>5.532630e+05</td>\n",
       "      <td>3.137560e+05</td>\n",
       "      <td>53549.700671</td>\n",
       "    </tr>\n",
       "    <tr>\n",
       "      <th>91</th>\n",
       "      <td>FIN</td>\n",
       "      <td>Finland</td>\n",
       "      <td>87.703650</td>\n",
       "      <td>639391.0</td>\n",
       "      <td>5.400670e+05</td>\n",
       "      <td>3.024780e+05</td>\n",
       "      <td>43402.863264</td>\n",
       "    </tr>\n",
       "    <tr>\n",
       "      <th>92</th>\n",
       "      <td>FRA</td>\n",
       "      <td>France</td>\n",
       "      <td>85.622200</td>\n",
       "      <td>7567872.0</td>\n",
       "      <td>5.947212e+06</td>\n",
       "      <td>2.388880e+06</td>\n",
       "      <td>36854.968280</td>\n",
       "    </tr>\n",
       "    <tr>\n",
       "      <th>97</th>\n",
       "      <td>DEU</td>\n",
       "      <td>Germany</td>\n",
       "      <td>89.647101</td>\n",
       "      <td>8682394.0</td>\n",
       "      <td>7.112950e+06</td>\n",
       "      <td>2.977781e+06</td>\n",
       "      <td>42069.597987</td>\n",
       "    </tr>\n",
       "    <tr>\n",
       "      <th>110</th>\n",
       "      <td>HKG</td>\n",
       "      <td>Hong Kong SAR, China</td>\n",
       "      <td>87.300343</td>\n",
       "      <td>856743.0</td>\n",
       "      <td>3.939520e+05</td>\n",
       "      <td>2.986427e+05</td>\n",
       "      <td>43681.421951</td>\n",
       "    </tr>\n",
       "    <tr>\n",
       "      <th>117</th>\n",
       "      <td>IRL</td>\n",
       "      <td>Ireland</td>\n",
       "      <td>82.169700</td>\n",
       "      <td>580379.0</td>\n",
       "      <td>3.546700e+05</td>\n",
       "      <td>2.146320e+05</td>\n",
       "      <td>63861.921982</td>\n",
       "    </tr>\n",
       "    <tr>\n",
       "      <th>119</th>\n",
       "      <td>ISR</td>\n",
       "      <td>Israel</td>\n",
       "      <td>79.778791</td>\n",
       "      <td>1211599.0</td>\n",
       "      <td>7.847520e+05</td>\n",
       "      <td>3.740480e+05</td>\n",
       "      <td>37175.742029</td>\n",
       "    </tr>\n",
       "    <tr>\n",
       "      <th>122</th>\n",
       "      <td>JPN</td>\n",
       "      <td>Japan</td>\n",
       "      <td>92.000000</td>\n",
       "      <td>12157426.0</td>\n",
       "      <td>7.227485e+06</td>\n",
       "      <td>3.862460e+06</td>\n",
       "      <td>38900.569306</td>\n",
       "    </tr>\n",
       "    <tr>\n",
       "      <th>164</th>\n",
       "      <td>NLD</td>\n",
       "      <td>Netherlands</td>\n",
       "      <td>90.410959</td>\n",
       "      <td>2005912.0</td>\n",
       "      <td>1.613497e+06</td>\n",
       "      <td>8.426010e+05</td>\n",
       "      <td>45669.814802</td>\n",
       "    </tr>\n",
       "    <tr>\n",
       "      <th>166</th>\n",
       "      <td>NZL</td>\n",
       "      <td>New Zealand</td>\n",
       "      <td>88.470186</td>\n",
       "      <td>615099.0</td>\n",
       "      <td>4.873633e+05</td>\n",
       "      <td>2.700742e+05</td>\n",
       "      <td>39416.358733</td>\n",
       "    </tr>\n",
       "    <tr>\n",
       "      <th>171</th>\n",
       "      <td>NOR</td>\n",
       "      <td>Norway</td>\n",
       "      <td>97.298204</td>\n",
       "      <td>646961.0</td>\n",
       "      <td>4.370740e+05</td>\n",
       "      <td>2.682310e+05</td>\n",
       "      <td>70911.757159</td>\n",
       "    </tr>\n",
       "    <tr>\n",
       "      <th>195</th>\n",
       "      <td>SGP</td>\n",
       "      <td>Singapore</td>\n",
       "      <td>81.000000</td>\n",
       "      <td>679106.0</td>\n",
       "      <td>2.320030e+05</td>\n",
       "      <td>2.553480e+05</td>\n",
       "      <td>52962.491569</td>\n",
       "    </tr>\n",
       "    <tr>\n",
       "      <th>212</th>\n",
       "      <td>SWE</td>\n",
       "      <td>Sweden</td>\n",
       "      <td>91.506828</td>\n",
       "      <td>1134811.0</td>\n",
       "      <td>8.441070e+05</td>\n",
       "      <td>4.285570e+05</td>\n",
       "      <td>51949.271432</td>\n",
       "    </tr>\n",
       "    <tr>\n",
       "      <th>213</th>\n",
       "      <td>CHE</td>\n",
       "      <td>Switzerland</td>\n",
       "      <td>89.405568</td>\n",
       "      <td>959002.0</td>\n",
       "      <td>6.144700e+05</td>\n",
       "      <td>2.944500e+05</td>\n",
       "      <td>79890.524005</td>\n",
       "    </tr>\n",
       "    <tr>\n",
       "      <th>229</th>\n",
       "      <td>ARE</td>\n",
       "      <td>United Arab Emirates</td>\n",
       "      <td>90.600007</td>\n",
       "      <td>743608.0</td>\n",
       "      <td>1.905760e+05</td>\n",
       "      <td>1.566130e+05</td>\n",
       "      <td>37622.207456</td>\n",
       "    </tr>\n",
       "    <tr>\n",
       "      <th>230</th>\n",
       "      <td>GBR</td>\n",
       "      <td>United Kingdom</td>\n",
       "      <td>94.775801</td>\n",
       "      <td>7731522.0</td>\n",
       "      <td>6.556992e+06</td>\n",
       "      <td>2.352933e+06</td>\n",
       "      <td>40341.408246</td>\n",
       "    </tr>\n",
       "    <tr>\n",
       "      <th>231</th>\n",
       "      <td>USA</td>\n",
       "      <td>United States</td>\n",
       "      <td>76.176737</td>\n",
       "      <td>45147517.0</td>\n",
       "      <td>2.422978e+07</td>\n",
       "      <td>1.953173e+07</td>\n",
       "      <td>57638.159088</td>\n",
       "    </tr>\n",
       "  </tbody>\n",
       "</table>\n",
       "</div>"
      ],
      "text/plain": [
       "    Country Code          Country Name  Internet_Users  Population15to24  \\\n",
       "35           AUS             Australia       88.238658         2914620.0   \n",
       "36           AUT               Austria       84.323331          964629.0   \n",
       "43           BEL               Belgium       86.516500         1241946.0   \n",
       "60           CAN                Canada       89.840000         4373511.0   \n",
       "78           DNK               Denmark       96.967785          710024.0   \n",
       "91           FIN               Finland       87.703650          639391.0   \n",
       "92           FRA                France       85.622200         7567872.0   \n",
       "97           DEU               Germany       89.647101         8682394.0   \n",
       "110          HKG  Hong Kong SAR, China       87.300343          856743.0   \n",
       "117          IRL               Ireland       82.169700          580379.0   \n",
       "119          ISR                Israel       79.778791         1211599.0   \n",
       "122          JPN                 Japan       92.000000        12157426.0   \n",
       "164          NLD           Netherlands       90.410959         2005912.0   \n",
       "166          NZL           New Zealand       88.470186          615099.0   \n",
       "171          NOR                Norway       97.298204          646961.0   \n",
       "195          SGP             Singapore       81.000000          679106.0   \n",
       "212          SWE                Sweden       91.506828         1134811.0   \n",
       "213          CHE           Switzerland       89.405568          959002.0   \n",
       "229          ARE  United Arab Emirates       90.600007          743608.0   \n",
       "230          GBR        United Kingdom       94.775801         7731522.0   \n",
       "231          USA         United States       76.176737        45147517.0   \n",
       "\n",
       "     Enrolment_Secondary  Enrolment_Tertiary       PIB_hab  \n",
       "35          2.371284e+06        1.453521e+06  49927.819509  \n",
       "36          6.910712e+05        4.259717e+05  44676.345835  \n",
       "43          1.217912e+06        5.047450e+05  41236.266589  \n",
       "60          2.697507e+06        1.212161e+06  42157.927991  \n",
       "78          5.532630e+05        3.137560e+05  53549.700671  \n",
       "91          5.400670e+05        3.024780e+05  43402.863264  \n",
       "92          5.947212e+06        2.388880e+06  36854.968280  \n",
       "97          7.112950e+06        2.977781e+06  42069.597987  \n",
       "110         3.939520e+05        2.986427e+05  43681.421951  \n",
       "117         3.546700e+05        2.146320e+05  63861.921982  \n",
       "119         7.847520e+05        3.740480e+05  37175.742029  \n",
       "122         7.227485e+06        3.862460e+06  38900.569306  \n",
       "164         1.613497e+06        8.426010e+05  45669.814802  \n",
       "166         4.873633e+05        2.700742e+05  39416.358733  \n",
       "171         4.370740e+05        2.682310e+05  70911.757159  \n",
       "195         2.320030e+05        2.553480e+05  52962.491569  \n",
       "212         8.441070e+05        4.285570e+05  51949.271432  \n",
       "213         6.144700e+05        2.944500e+05  79890.524005  \n",
       "229         1.905760e+05        1.566130e+05  37622.207456  \n",
       "230         6.556992e+06        2.352933e+06  40341.408246  \n",
       "231         2.422978e+07        1.953173e+07  57638.159088  "
      ]
     },
     "execution_count": 151,
     "metadata": {},
     "output_type": "execute_result"
    }
   ],
   "source": [
    "Data[Data['PIB_hab'] > (Q3_PIB + 1.5*Q3_PIB)]"
   ]
  },
  {
   "cell_type": "markdown",
   "id": "95c44af4",
   "metadata": {},
   "source": [
    "**Conclusion**: La méthode interquartile détecte de nombreux outliers pour 4 des 5 variables sélectionnées\n"
   ]
  },
  {
   "cell_type": "markdown",
   "id": "f73fe7be",
   "metadata": {},
   "source": [
    "# <a name=\"C122\">2.2.2 Approche métier</a>"
   ]
  },
  {
   "cell_type": "markdown",
   "id": "9f95e861",
   "metadata": {},
   "source": [
    "Vérifions le minimum et le maximum de chaque variable avec la méthode describe:"
   ]
  },
  {
   "cell_type": "code",
   "execution_count": 152,
   "id": "26fbc833",
   "metadata": {},
   "outputs": [
    {
     "data": {
      "text/html": [
       "<div>\n",
       "<style scoped>\n",
       "    .dataframe tbody tr th:only-of-type {\n",
       "        vertical-align: middle;\n",
       "    }\n",
       "\n",
       "    .dataframe tbody tr th {\n",
       "        vertical-align: top;\n",
       "    }\n",
       "\n",
       "    .dataframe thead th {\n",
       "        text-align: right;\n",
       "    }\n",
       "</style>\n",
       "<table border=\"1\" class=\"dataframe\">\n",
       "  <thead>\n",
       "    <tr style=\"text-align: right;\">\n",
       "      <th></th>\n",
       "      <th>Internet_Users</th>\n",
       "      <th>Population15to24</th>\n",
       "      <th>Enrolment_Secondary</th>\n",
       "      <th>Enrolment_Tertiary</th>\n",
       "      <th>PIB_hab</th>\n",
       "    </tr>\n",
       "  </thead>\n",
       "  <tbody>\n",
       "    <tr>\n",
       "      <th>count</th>\n",
       "      <td>156.000000</td>\n",
       "      <td>1.560000e+02</td>\n",
       "      <td>1.560000e+02</td>\n",
       "      <td>1.560000e+02</td>\n",
       "      <td>156.000000</td>\n",
       "    </tr>\n",
       "    <tr>\n",
       "      <th>mean</th>\n",
       "      <td>47.596267</td>\n",
       "      <td>7.686036e+06</td>\n",
       "      <td>3.705644e+06</td>\n",
       "      <td>1.351753e+06</td>\n",
       "      <td>11612.918756</td>\n",
       "    </tr>\n",
       "    <tr>\n",
       "      <th>std</th>\n",
       "      <td>28.381641</td>\n",
       "      <td>2.575492e+07</td>\n",
       "      <td>1.281814e+07</td>\n",
       "      <td>4.655468e+06</td>\n",
       "      <td>16303.193158</td>\n",
       "    </tr>\n",
       "    <tr>\n",
       "      <th>min</th>\n",
       "      <td>1.177119</td>\n",
       "      <td>1.326090e+05</td>\n",
       "      <td>5.517600e+04</td>\n",
       "      <td>3.689000e+03</td>\n",
       "      <td>285.727442</td>\n",
       "    </tr>\n",
       "    <tr>\n",
       "      <th>25%</th>\n",
       "      <td>22.168370</td>\n",
       "      <td>7.022945e+05</td>\n",
       "      <td>3.068132e+05</td>\n",
       "      <td>9.370150e+04</td>\n",
       "      <td>1397.668952</td>\n",
       "    </tr>\n",
       "    <tr>\n",
       "      <th>50%</th>\n",
       "      <td>47.778620</td>\n",
       "      <td>1.984050e+06</td>\n",
       "      <td>8.021885e+05</td>\n",
       "      <td>2.583805e+05</td>\n",
       "      <td>4185.164354</td>\n",
       "    </tr>\n",
       "    <tr>\n",
       "      <th>75%</th>\n",
       "      <td>73.297881</td>\n",
       "      <td>5.666144e+06</td>\n",
       "      <td>2.614520e+06</td>\n",
       "      <td>7.611005e+05</td>\n",
       "      <td>13860.859728</td>\n",
       "    </tr>\n",
       "    <tr>\n",
       "      <th>max</th>\n",
       "      <td>97.999981</td>\n",
       "      <td>2.441202e+08</td>\n",
       "      <td>1.295421e+08</td>\n",
       "      <td>4.336739e+07</td>\n",
       "      <td>79890.524005</td>\n",
       "    </tr>\n",
       "  </tbody>\n",
       "</table>\n",
       "</div>"
      ],
      "text/plain": [
       "       Internet_Users  Population15to24  Enrolment_Secondary  \\\n",
       "count      156.000000      1.560000e+02         1.560000e+02   \n",
       "mean        47.596267      7.686036e+06         3.705644e+06   \n",
       "std         28.381641      2.575492e+07         1.281814e+07   \n",
       "min          1.177119      1.326090e+05         5.517600e+04   \n",
       "25%         22.168370      7.022945e+05         3.068132e+05   \n",
       "50%         47.778620      1.984050e+06         8.021885e+05   \n",
       "75%         73.297881      5.666144e+06         2.614520e+06   \n",
       "max         97.999981      2.441202e+08         1.295421e+08   \n",
       "\n",
       "       Enrolment_Tertiary       PIB_hab  \n",
       "count        1.560000e+02    156.000000  \n",
       "mean         1.351753e+06  11612.918756  \n",
       "std          4.655468e+06  16303.193158  \n",
       "min          3.689000e+03    285.727442  \n",
       "25%          9.370150e+04   1397.668952  \n",
       "50%          2.583805e+05   4185.164354  \n",
       "75%          7.611005e+05  13860.859728  \n",
       "max          4.336739e+07  79890.524005  "
      ]
     },
     "execution_count": 152,
     "metadata": {},
     "output_type": "execute_result"
    }
   ],
   "source": [
    "Data.describe()"
   ]
  },
  {
   "cell_type": "markdown",
   "id": "01cc355d",
   "metadata": {},
   "source": [
    "Le minimum et le maximum de chaque variable indiquent que les outliers détectés ne sont pas des valeurs abérrantes, mais\n",
    "des **valeurs atypiques**.\n",
    "En effet, il existe réellement de fortes disparités entre pays en terme de PIB_hab et de population 15 à 24 ans et d'inscription dans le secondaire et enseignement supérieur. \n",
    "\n",
    "**Conclusion**: pas de traitement des outliers, **les valeurs atypiques doivent être conservées** "
   ]
  },
  {
   "cell_type": "markdown",
   "id": "90e001ad",
   "metadata": {},
   "source": [
    "# <a name=\"C13\">2.3 Représentation graphique des distributions</a>"
   ]
  },
  {
   "cell_type": "markdown",
   "id": "f57d5997",
   "metadata": {},
   "source": [
    "Les 5 variables sélectionnées sont **quantitatives continues**.\n",
    "Représentons leur distribution à l'aide d'**histogrammes**."
   ]
  },
  {
   "cell_type": "code",
   "execution_count": 153,
   "id": "d9e15263",
   "metadata": {},
   "outputs": [
    {
     "data": {
      "image/png": "[encoded data removed]",
      "text/plain": [
       "<Figure size 640x480 with 1 Axes>"
      ]
     },
     "metadata": {},
     "output_type": "display_data"
    }
   ],
   "source": [
    "Data[\"Internet_Users\"].hist(bins=10)\n",
    "plt.title(\"Internet_Users\", fontsize=15, color=\"blue\")\n",
    "plt.xlabel(\"Nombre d'utilisateurs internet pour 100 habitants\",fontsize=8)\n",
    "plt.ylabel(\"Nombre de pays\",fontsize=8)\n",
    "plt.show()"
   ]
  },
  {
   "cell_type": "markdown",
   "id": "72bd4212",
   "metadata": {},
   "source": [
    "Pour la variable **Internet_Users**, **la distribution est bimodale**, avec un 1er pic à 25% et un 2eme pic 70%"
   ]
  },
  {
   "cell_type": "code",
   "execution_count": 154,
   "id": "3e3154b0",
   "metadata": {},
   "outputs": [
    {
     "data": {
      "image/png": "[encoded data removed]",
      "text/plain": [
       "<Figure size 640x480 with 1 Axes>"
      ]
     },
     "metadata": {},
     "output_type": "display_data"
    }
   ],
   "source": [
    "Data[Data.Population15to24 < 5000000][\"Population15to24\"].hist(bins=20) ## pour une meilleure lisibilité, on retire les pays > 5 millions\n",
    "plt.title(\"Population 15 à 24 ans\", fontsize=15, color=\"blue\")\n",
    "plt.xlabel(\"Nombre d'habitants âgés de 15 à 24 ans (en millions)\",fontsize=8)\n",
    "plt.ylabel(\"Nombre de pays\",fontsize=8)\n",
    "plt.xlim(0,5000000)\n",
    "plt.show()"
   ]
  },
  {
   "cell_type": "markdown",
   "id": "a445757a",
   "metadata": {},
   "source": [
    "Pour la variable **Population15to24**, **la distribution est unimodale**, avec un pic à 500000 habitants"
   ]
  },
  {
   "cell_type": "code",
   "execution_count": 155,
   "id": "0c60cb40",
   "metadata": {},
   "outputs": [
    {
     "data": {
      "image/png": "[encoded data removed]",
      "text/plain": [
       "<Figure size 640x480 with 1 Axes>"
      ]
     },
     "metadata": {},
     "output_type": "display_data"
    }
   ],
   "source": [
    "Data[Data.Enrolment_Secondary < 5000000][\"Enrolment_Secondary\"].hist(bins=20) ## pour une meilleure lisibilité, on retire les pays > 5 millions\n",
    "plt.title(\"Nombre d'élèves dans le secondaire\", fontsize=15, color=\"blue\")\n",
    "plt.xlabel(\"Nombre d'élèves dans le secondaire (en millions)\",fontsize=8)\n",
    "plt.ylabel(\"Nombre de pays\",fontsize=8)\n",
    "plt.xlim(0,5000000)\n",
    "plt.show()"
   ]
  },
  {
   "cell_type": "markdown",
   "id": "0d7bebda",
   "metadata": {},
   "source": [
    "Pour la variable **Enrolment_Secondary**, la **distribution est unimodale**, avec un pic à 150000 habitants"
   ]
  },
  {
   "cell_type": "code",
   "execution_count": 156,
   "id": "2a29afc5",
   "metadata": {},
   "outputs": [
    {
     "data": {
      "image/png": "[encoded data removed]",
      "text/plain": [
       "<Figure size 640x480 with 1 Axes>"
      ]
     },
     "metadata": {},
     "output_type": "display_data"
    }
   ],
   "source": [
    "Data[Data.Enrolment_Tertiary < 5000000][\"Enrolment_Tertiary\"].hist(bins=20) ## pour une meilleure lisibilité, on retire les pays > 5 millions\n",
    "plt.title(\"Nombre d'élèves dans l'enseignement supérieur\", fontsize=15, color=\"blue\")\n",
    "plt.xlabel(\"Nombre d'élèves dans l'enseignement supérieur (en millions)\",fontsize=8)\n",
    "plt.ylabel(\"Nombre de pays\",fontsize=8)\n",
    "plt.xlim(0,5000000)\n",
    "plt.show()"
   ]
  },
  {
   "cell_type": "markdown",
   "id": "cbb646dc",
   "metadata": {},
   "source": [
    "Pour la variable **Enrolment_Tertiary**, la **distribution est unimodale**"
   ]
  },
  {
   "cell_type": "code",
   "execution_count": 157,
   "id": "766d9c0b",
   "metadata": {},
   "outputs": [
    {
     "data": {
      "image/png": "[encoded data removed]",
      "text/plain": [
       "<Figure size 640x480 with 1 Axes>"
      ]
     },
     "metadata": {},
     "output_type": "display_data"
    }
   ],
   "source": [
    "Data[\"PIB_hab\"].hist()\n",
    "plt.title(\"PIB par habitant\", fontsize=15, color=\"blue\")\n",
    "plt.xlabel(\"PIB/hab en dollars\",fontsize=8)\n",
    "plt.ylabel(\"Nombre de pays\",fontsize=8)\n",
    "plt.show()"
   ]
  },
  {
   "cell_type": "markdown",
   "id": "05e4c3e7",
   "metadata": {},
   "source": [
    "Pour la variable **PIB_hab**, la **distribution est unimodale**"
   ]
  },
  {
   "cell_type": "markdown",
   "id": "f2c7b75a",
   "metadata": {},
   "source": [
    "# <a name=\"C14\">2.4 Score d'attractivité par pays</a>"
   ]
  },
  {
   "cell_type": "markdown",
   "id": "2207fdc6",
   "metadata": {},
   "source": [
    "Nous allons créer un score d'attractivité pour noter le potentiel d'un pays en fonction des 5 variables retenues.\n",
    "\n",
    "Afin de comparer et d'analyser plus facilement les indicateurs, une normalisation est nécessaire."
   ]
  },
  {
   "cell_type": "markdown",
   "id": "b0b25823",
   "metadata": {},
   "source": [
    "### 1. Normalisation des valeurs des variables"
   ]
  },
  {
   "cell_type": "markdown",
   "id": "cd070862",
   "metadata": {},
   "source": [
    "La **normalisation Z-score** permet d'avoir une moyenne à 0 et un écart type à 1."
   ]
  },
  {
   "cell_type": "code",
   "execution_count": 158,
   "id": "ab65e030",
   "metadata": {},
   "outputs": [],
   "source": [
    "Data_zscore=Data.loc[:,['Internet_Users','Population15to24','Enrolment_Secondary','Enrolment_Tertiary','PIB_hab']]\n",
    "Data_zscore = Data_zscore.apply(stats.zscore)"
   ]
  },
  {
   "cell_type": "code",
   "execution_count": 159,
   "id": "dc146d5b",
   "metadata": {},
   "outputs": [
    {
     "data": {
      "text/html": [
       "<div>\n",
       "<style scoped>\n",
       "    .dataframe tbody tr th:only-of-type {\n",
       "        vertical-align: middle;\n",
       "    }\n",
       "\n",
       "    .dataframe tbody tr th {\n",
       "        vertical-align: top;\n",
       "    }\n",
       "\n",
       "    .dataframe thead th {\n",
       "        text-align: right;\n",
       "    }\n",
       "</style>\n",
       "<table border=\"1\" class=\"dataframe\">\n",
       "  <thead>\n",
       "    <tr style=\"text-align: right;\">\n",
       "      <th></th>\n",
       "      <th>Internet_Users</th>\n",
       "      <th>Population15to24</th>\n",
       "      <th>Enrolment_Secondary</th>\n",
       "      <th>Enrolment_Tertiary</th>\n",
       "      <th>PIB_hab</th>\n",
       "    </tr>\n",
       "  </thead>\n",
       "  <tbody>\n",
       "    <tr>\n",
       "      <th>25</th>\n",
       "      <td>-1.307877</td>\n",
       "      <td>-0.016876</td>\n",
       "      <td>-0.078800</td>\n",
       "      <td>-0.234646</td>\n",
       "      <td>-0.680034</td>\n",
       "    </tr>\n",
       "    <tr>\n",
       "      <th>26</th>\n",
       "      <td>0.663373</td>\n",
       "      <td>-0.277723</td>\n",
       "      <td>-0.265365</td>\n",
       "      <td>-0.256701</td>\n",
       "      <td>-0.460772</td>\n",
       "    </tr>\n",
       "    <tr>\n",
       "      <th>27</th>\n",
       "      <td>-0.164392</td>\n",
       "      <td>-0.047453</td>\n",
       "      <td>0.067846</td>\n",
       "      <td>-0.013421</td>\n",
       "      <td>-0.473577</td>\n",
       "    </tr>\n",
       "    <tr>\n",
       "      <th>30</th>\n",
       "      <td>-1.222892</td>\n",
       "      <td>-0.133478</td>\n",
       "      <td>-0.220761</td>\n",
       "      <td>-0.243661</td>\n",
       "      <td>-0.511002</td>\n",
       "    </tr>\n",
       "    <tr>\n",
       "      <th>32</th>\n",
       "      <td>0.797246</td>\n",
       "      <td>-0.031143</td>\n",
       "      <td>0.058316</td>\n",
       "      <td>0.327053</td>\n",
       "      <td>0.050914</td>\n",
       "    </tr>\n",
       "  </tbody>\n",
       "</table>\n",
       "</div>"
      ],
      "text/plain": [
       "    Internet_Users  Population15to24  Enrolment_Secondary  Enrolment_Tertiary  \\\n",
       "25       -1.307877         -0.016876            -0.078800           -0.234646   \n",
       "26        0.663373         -0.277723            -0.265365           -0.256701   \n",
       "27       -0.164392         -0.047453             0.067846           -0.013421   \n",
       "30       -1.222892         -0.133478            -0.220761           -0.243661   \n",
       "32        0.797246         -0.031143             0.058316            0.327053   \n",
       "\n",
       "     PIB_hab  \n",
       "25 -0.680034  \n",
       "26 -0.460772  \n",
       "27 -0.473577  \n",
       "30 -0.511002  \n",
       "32  0.050914  "
      ]
     },
     "execution_count": 159,
     "metadata": {},
     "output_type": "execute_result"
    }
   ],
   "source": [
    "Data_zscore.head()"
   ]
  },
  {
   "cell_type": "code",
   "execution_count": 160,
   "id": "b4c0ebe5",
   "metadata": {},
   "outputs": [],
   "source": [
    "Data['Internet_Users_norm']=Data_zscore['Internet_Users']\n",
    "Data['Population15to24_norm']=Data_zscore['Population15to24']\n",
    "Data['Enrolment_Secondary_norm']=Data_zscore['Enrolment_Secondary']\n",
    "Data['Enrolment_Tertiary_norm']=Data_zscore['Enrolment_Tertiary']\n",
    "Data['PIB_hab_norm']=Data_zscore['PIB_hab']"
   ]
  },
  {
   "cell_type": "code",
   "execution_count": 161,
   "id": "98ff9285",
   "metadata": {},
   "outputs": [
    {
     "data": {
      "text/html": [
       "<div>\n",
       "<style scoped>\n",
       "    .dataframe tbody tr th:only-of-type {\n",
       "        vertical-align: middle;\n",
       "    }\n",
       "\n",
       "    .dataframe tbody tr th {\n",
       "        vertical-align: top;\n",
       "    }\n",
       "\n",
       "    .dataframe thead th {\n",
       "        text-align: right;\n",
       "    }\n",
       "</style>\n",
       "<table border=\"1\" class=\"dataframe\">\n",
       "  <thead>\n",
       "    <tr style=\"text-align: right;\">\n",
       "      <th></th>\n",
       "      <th>Country Code</th>\n",
       "      <th>Country Name</th>\n",
       "      <th>Internet_Users</th>\n",
       "      <th>Population15to24</th>\n",
       "      <th>Enrolment_Secondary</th>\n",
       "      <th>Enrolment_Tertiary</th>\n",
       "      <th>PIB_hab</th>\n",
       "      <th>Internet_Users_norm</th>\n",
       "      <th>Population15to24_norm</th>\n",
       "      <th>Enrolment_Secondary_norm</th>\n",
       "      <th>Enrolment_Tertiary_norm</th>\n",
       "      <th>PIB_hab_norm</th>\n",
       "    </tr>\n",
       "  </thead>\n",
       "  <tbody>\n",
       "    <tr>\n",
       "      <th>25</th>\n",
       "      <td>AFG</td>\n",
       "      <td>Afghanistan</td>\n",
       "      <td>10.595726</td>\n",
       "      <td>7252785.0</td>\n",
       "      <td>2698816.0</td>\n",
       "      <td>262874.0</td>\n",
       "      <td>561.778746</td>\n",
       "      <td>-1.307877</td>\n",
       "      <td>-0.016876</td>\n",
       "      <td>-0.078800</td>\n",
       "      <td>-0.234646</td>\n",
       "      <td>-0.680034</td>\n",
       "    </tr>\n",
       "    <tr>\n",
       "      <th>26</th>\n",
       "      <td>ALB</td>\n",
       "      <td>Albania</td>\n",
       "      <td>66.363445</td>\n",
       "      <td>556269.0</td>\n",
       "      <td>315079.0</td>\n",
       "      <td>160527.0</td>\n",
       "      <td>4124.982390</td>\n",
       "      <td>0.663373</td>\n",
       "      <td>-0.277723</td>\n",
       "      <td>-0.265365</td>\n",
       "      <td>-0.256701</td>\n",
       "      <td>-0.460772</td>\n",
       "    </tr>\n",
       "    <tr>\n",
       "      <th>27</th>\n",
       "      <td>DZA</td>\n",
       "      <td>Algeria</td>\n",
       "      <td>42.945527</td>\n",
       "      <td>6467818.0</td>\n",
       "      <td>4572513.0</td>\n",
       "      <td>1289474.0</td>\n",
       "      <td>3916.881571</td>\n",
       "      <td>-0.164392</td>\n",
       "      <td>-0.047453</td>\n",
       "      <td>0.067846</td>\n",
       "      <td>-0.013421</td>\n",
       "      <td>-0.473577</td>\n",
       "    </tr>\n",
       "    <tr>\n",
       "      <th>30</th>\n",
       "      <td>AGO</td>\n",
       "      <td>Angola</td>\n",
       "      <td>13.000000</td>\n",
       "      <td>4259352.0</td>\n",
       "      <td>884982.0</td>\n",
       "      <td>221037.0</td>\n",
       "      <td>3308.700233</td>\n",
       "      <td>-1.222892</td>\n",
       "      <td>-0.133478</td>\n",
       "      <td>-0.220761</td>\n",
       "      <td>-0.243661</td>\n",
       "      <td>-0.511002</td>\n",
       "    </tr>\n",
       "    <tr>\n",
       "      <th>32</th>\n",
       "      <td>ARG</td>\n",
       "      <td>Argentina</td>\n",
       "      <td>70.150764</td>\n",
       "      <td>6886530.0</td>\n",
       "      <td>4450741.0</td>\n",
       "      <td>2869450.0</td>\n",
       "      <td>12440.320982</td>\n",
       "      <td>0.797246</td>\n",
       "      <td>-0.031143</td>\n",
       "      <td>0.058316</td>\n",
       "      <td>0.327053</td>\n",
       "      <td>0.050914</td>\n",
       "    </tr>\n",
       "  </tbody>\n",
       "</table>\n",
       "</div>"
      ],
      "text/plain": [
       "   Country Code Country Name  Internet_Users  Population15to24  \\\n",
       "25          AFG  Afghanistan       10.595726         7252785.0   \n",
       "26          ALB      Albania       66.363445          556269.0   \n",
       "27          DZA      Algeria       42.945527         6467818.0   \n",
       "30          AGO       Angola       13.000000         4259352.0   \n",
       "32          ARG    Argentina       70.150764         6886530.0   \n",
       "\n",
       "    Enrolment_Secondary  Enrolment_Tertiary       PIB_hab  \\\n",
       "25            2698816.0            262874.0    561.778746   \n",
       "26             315079.0            160527.0   4124.982390   \n",
       "27            4572513.0           1289474.0   3916.881571   \n",
       "30             884982.0            221037.0   3308.700233   \n",
       "32            4450741.0           2869450.0  12440.320982   \n",
       "\n",
       "    Internet_Users_norm  Population15to24_norm  Enrolment_Secondary_norm  \\\n",
       "25            -1.307877              -0.016876                 -0.078800   \n",
       "26             0.663373              -0.277723                 -0.265365   \n",
       "27            -0.164392              -0.047453                  0.067846   \n",
       "30            -1.222892              -0.133478                 -0.220761   \n",
       "32             0.797246              -0.031143                  0.058316   \n",
       "\n",
       "    Enrolment_Tertiary_norm  PIB_hab_norm  \n",
       "25                -0.234646     -0.680034  \n",
       "26                -0.256701     -0.460772  \n",
       "27                -0.013421     -0.473577  \n",
       "30                -0.243661     -0.511002  \n",
       "32                 0.327053      0.050914  "
      ]
     },
     "execution_count": 161,
     "metadata": {},
     "output_type": "execute_result"
    }
   ],
   "source": [
    "Data.head()"
   ]
  },
  {
   "cell_type": "markdown",
   "id": "f3c2f8c8",
   "metadata": {},
   "source": [
    "### 2. Calcul d'un score d'attractivité"
   ]
  },
  {
   "cell_type": "markdown",
   "id": "264268b3",
   "metadata": {},
   "source": [
    "Le score d'attractivité est égal à la somme des variables normalisées."
   ]
  },
  {
   "cell_type": "code",
   "execution_count": 162,
   "id": "1882e780",
   "metadata": {},
   "outputs": [],
   "source": [
    "Data['Attractivite']=Data['Internet_Users_norm']+Data['Population15to24_norm']+Data['Enrolment_Secondary_norm']+Data['Enrolment_Tertiary_norm']+Data['PIB_hab_norm']"
   ]
  },
  {
   "cell_type": "markdown",
   "id": "b9bd2e2b",
   "metadata": {},
   "source": [
    "### 3. Classement des pays en fonction du score d'attractivité"
   ]
  },
  {
   "cell_type": "markdown",
   "id": "046bac06",
   "metadata": {},
   "source": [
    "On affiche les 20 pays qui ont le score d'attractivité le plus élevé"
   ]
  },
  {
   "cell_type": "code",
   "execution_count": 163,
   "id": "532ad0f9",
   "metadata": {},
   "outputs": [
    {
     "data": {
      "text/html": [
       "<div>\n",
       "<style scoped>\n",
       "    .dataframe tbody tr th:only-of-type {\n",
       "        vertical-align: middle;\n",
       "    }\n",
       "\n",
       "    .dataframe tbody tr th {\n",
       "        vertical-align: top;\n",
       "    }\n",
       "\n",
       "    .dataframe thead th {\n",
       "        text-align: right;\n",
       "    }\n",
       "</style>\n",
       "<table border=\"1\" class=\"dataframe\">\n",
       "  <thead>\n",
       "    <tr style=\"text-align: right;\">\n",
       "      <th></th>\n",
       "      <th>Country Name</th>\n",
       "      <th>Attractivite</th>\n",
       "      <th>Internet_Users_norm</th>\n",
       "      <th>Population15to24_norm</th>\n",
       "      <th>Enrolment_Secondary_norm</th>\n",
       "      <th>Enrolment_Tertiary_norm</th>\n",
       "      <th>PIB_hab_norm</th>\n",
       "    </tr>\n",
       "  </thead>\n",
       "  <tbody>\n",
       "    <tr>\n",
       "      <th>113</th>\n",
       "      <td>India</td>\n",
       "      <td>24.438633</td>\n",
       "      <td>-0.637991</td>\n",
       "      <td>9.209721</td>\n",
       "      <td>9.848676</td>\n",
       "      <td>6.627630</td>\n",
       "      <td>-0.609403</td>\n",
       "    </tr>\n",
       "    <tr>\n",
       "      <th>66</th>\n",
       "      <td>China</td>\n",
       "      <td>22.863502</td>\n",
       "      <td>0.198078</td>\n",
       "      <td>7.375310</td>\n",
       "      <td>6.450781</td>\n",
       "      <td>9.054075</td>\n",
       "      <td>-0.214742</td>\n",
       "    </tr>\n",
       "    <tr>\n",
       "      <th>231</th>\n",
       "      <td>United States</td>\n",
       "      <td>10.825636</td>\n",
       "      <td>1.010249</td>\n",
       "      <td>1.459221</td>\n",
       "      <td>1.606336</td>\n",
       "      <td>3.917657</td>\n",
       "      <td>2.832173</td>\n",
       "    </tr>\n",
       "    <tr>\n",
       "      <th>213</th>\n",
       "      <td>Switzerland</td>\n",
       "      <td>4.947523</td>\n",
       "      <td>1.477855</td>\n",
       "      <td>-0.262035</td>\n",
       "      <td>-0.241933</td>\n",
       "      <td>-0.227841</td>\n",
       "      <td>4.201478</td>\n",
       "    </tr>\n",
       "    <tr>\n",
       "      <th>171</th>\n",
       "      <td>Norway</td>\n",
       "      <td>4.642309</td>\n",
       "      <td>1.756840</td>\n",
       "      <td>-0.274190</td>\n",
       "      <td>-0.255817</td>\n",
       "      <td>-0.233491</td>\n",
       "      <td>3.648967</td>\n",
       "    </tr>\n",
       "    <tr>\n",
       "      <th>51</th>\n",
       "      <td>Brazil</td>\n",
       "      <td>4.297671</td>\n",
       "      <td>0.427227</td>\n",
       "      <td>1.009243</td>\n",
       "      <td>1.549359</td>\n",
       "      <td>1.494168</td>\n",
       "      <td>-0.182327</td>\n",
       "    </tr>\n",
       "    <tr>\n",
       "      <th>122</th>\n",
       "      <td>Japan</td>\n",
       "      <td>4.239565</td>\n",
       "      <td>1.569562</td>\n",
       "      <td>0.174172</td>\n",
       "      <td>0.275639</td>\n",
       "      <td>0.541040</td>\n",
       "      <td>1.679152</td>\n",
       "    </tr>\n",
       "    <tr>\n",
       "      <th>97</th>\n",
       "      <td>Germany</td>\n",
       "      <td>4.016435</td>\n",
       "      <td>1.486393</td>\n",
       "      <td>0.038811</td>\n",
       "      <td>0.266675</td>\n",
       "      <td>0.350398</td>\n",
       "      <td>1.874159</td>\n",
       "    </tr>\n",
       "    <tr>\n",
       "      <th>230</th>\n",
       "      <td>United Kingdom</td>\n",
       "      <td>3.876175</td>\n",
       "      <td>1.667679</td>\n",
       "      <td>0.001772</td>\n",
       "      <td>0.223163</td>\n",
       "      <td>0.215747</td>\n",
       "      <td>1.767814</td>\n",
       "    </tr>\n",
       "    <tr>\n",
       "      <th>117</th>\n",
       "      <td>Ireland</td>\n",
       "      <td>3.653148</td>\n",
       "      <td>1.222085</td>\n",
       "      <td>-0.276784</td>\n",
       "      <td>-0.262266</td>\n",
       "      <td>-0.245042</td>\n",
       "      <td>3.215154</td>\n",
       "    </tr>\n",
       "    <tr>\n",
       "      <th>78</th>\n",
       "      <td>Denmark</td>\n",
       "      <td>3.583612</td>\n",
       "      <td>1.745161</td>\n",
       "      <td>-0.271734</td>\n",
       "      <td>-0.246723</td>\n",
       "      <td>-0.223681</td>\n",
       "      <td>2.580589</td>\n",
       "    </tr>\n",
       "    <tr>\n",
       "      <th>35</th>\n",
       "      <td>Australia</td>\n",
       "      <td>3.525960</td>\n",
       "      <td>1.436608</td>\n",
       "      <td>-0.185859</td>\n",
       "      <td>-0.104435</td>\n",
       "      <td>0.021930</td>\n",
       "      <td>2.357716</td>\n",
       "    </tr>\n",
       "    <tr>\n",
       "      <th>212</th>\n",
       "      <td>Sweden</td>\n",
       "      <td>3.356146</td>\n",
       "      <td>1.552129</td>\n",
       "      <td>-0.255187</td>\n",
       "      <td>-0.223960</td>\n",
       "      <td>-0.198942</td>\n",
       "      <td>2.482106</td>\n",
       "    </tr>\n",
       "    <tr>\n",
       "      <th>92</th>\n",
       "      <td>France</td>\n",
       "      <td>3.291726</td>\n",
       "      <td>1.344122</td>\n",
       "      <td>-0.004603</td>\n",
       "      <td>0.175438</td>\n",
       "      <td>0.223494</td>\n",
       "      <td>1.553275</td>\n",
       "    </tr>\n",
       "    <tr>\n",
       "      <th>60</th>\n",
       "      <td>Canada</td>\n",
       "      <td>3.134790</td>\n",
       "      <td>1.493211</td>\n",
       "      <td>-0.129031</td>\n",
       "      <td>-0.078903</td>\n",
       "      <td>-0.030081</td>\n",
       "      <td>1.879594</td>\n",
       "    </tr>\n",
       "    <tr>\n",
       "      <th>164</th>\n",
       "      <td>Netherlands</td>\n",
       "      <td>3.114374</td>\n",
       "      <td>1.513393</td>\n",
       "      <td>-0.221255</td>\n",
       "      <td>-0.163743</td>\n",
       "      <td>-0.109719</td>\n",
       "      <td>2.095699</td>\n",
       "    </tr>\n",
       "    <tr>\n",
       "      <th>195</th>\n",
       "      <td>Singapore</td>\n",
       "      <td>2.944122</td>\n",
       "      <td>1.180739</td>\n",
       "      <td>-0.272938</td>\n",
       "      <td>-0.271867</td>\n",
       "      <td>-0.236268</td>\n",
       "      <td>2.544455</td>\n",
       "    </tr>\n",
       "    <tr>\n",
       "      <th>128</th>\n",
       "      <td>Korea, Rep.</td>\n",
       "      <td>2.915786</td>\n",
       "      <td>1.594890</td>\n",
       "      <td>-0.047891</td>\n",
       "      <td>-0.024175</td>\n",
       "      <td>0.412959</td>\n",
       "      <td>0.980003</td>\n",
       "    </tr>\n",
       "    <tr>\n",
       "      <th>185</th>\n",
       "      <td>Russian Federation</td>\n",
       "      <td>2.687716</td>\n",
       "      <td>1.018462</td>\n",
       "      <td>0.271731</td>\n",
       "      <td>0.444468</td>\n",
       "      <td>1.129326</td>\n",
       "      <td>-0.176271</td>\n",
       "    </tr>\n",
       "    <tr>\n",
       "      <th>36</th>\n",
       "      <td>Austria</td>\n",
       "      <td>2.635523</td>\n",
       "      <td>1.298211</td>\n",
       "      <td>-0.261816</td>\n",
       "      <td>-0.235938</td>\n",
       "      <td>-0.199499</td>\n",
       "      <td>2.034565</td>\n",
       "    </tr>\n",
       "  </tbody>\n",
       "</table>\n",
       "</div>"
      ],
      "text/plain": [
       "           Country Name  Attractivite  Internet_Users_norm  \\\n",
       "113               India     24.438633            -0.637991   \n",
       "66                China     22.863502             0.198078   \n",
       "231       United States     10.825636             1.010249   \n",
       "213         Switzerland      4.947523             1.477855   \n",
       "171              Norway      4.642309             1.756840   \n",
       "51               Brazil      4.297671             0.427227   \n",
       "122               Japan      4.239565             1.569562   \n",
       "97              Germany      4.016435             1.486393   \n",
       "230      United Kingdom      3.876175             1.667679   \n",
       "117             Ireland      3.653148             1.222085   \n",
       "78              Denmark      3.583612             1.745161   \n",
       "35            Australia      3.525960             1.436608   \n",
       "212              Sweden      3.356146             1.552129   \n",
       "92               France      3.291726             1.344122   \n",
       "60               Canada      3.134790             1.493211   \n",
       "164         Netherlands      3.114374             1.513393   \n",
       "195           Singapore      2.944122             1.180739   \n",
       "128         Korea, Rep.      2.915786             1.594890   \n",
       "185  Russian Federation      2.687716             1.018462   \n",
       "36              Austria      2.635523             1.298211   \n",
       "\n",
       "     Population15to24_norm  Enrolment_Secondary_norm  Enrolment_Tertiary_norm  \\\n",
       "113               9.209721                  9.848676                 6.627630   \n",
       "66                7.375310                  6.450781                 9.054075   \n",
       "231               1.459221                  1.606336                 3.917657   \n",
       "213              -0.262035                 -0.241933                -0.227841   \n",
       "171              -0.274190                 -0.255817                -0.233491   \n",
       "51                1.009243                  1.549359                 1.494168   \n",
       "122               0.174172                  0.275639                 0.541040   \n",
       "97                0.038811                  0.266675                 0.350398   \n",
       "230               0.001772                  0.223163                 0.215747   \n",
       "117              -0.276784                 -0.262266                -0.245042   \n",
       "78               -0.271734                 -0.246723                -0.223681   \n",
       "35               -0.185859                 -0.104435                 0.021930   \n",
       "212              -0.255187                 -0.223960                -0.198942   \n",
       "92               -0.004603                  0.175438                 0.223494   \n",
       "60               -0.129031                 -0.078903                -0.030081   \n",
       "164              -0.221255                 -0.163743                -0.109719   \n",
       "195              -0.272938                 -0.271867                -0.236268   \n",
       "128              -0.047891                 -0.024175                 0.412959   \n",
       "185               0.271731                  0.444468                 1.129326   \n",
       "36               -0.261816                 -0.235938                -0.199499   \n",
       "\n",
       "     PIB_hab_norm  \n",
       "113     -0.609403  \n",
       "66      -0.214742  \n",
       "231      2.832173  \n",
       "213      4.201478  \n",
       "171      3.648967  \n",
       "51      -0.182327  \n",
       "122      1.679152  \n",
       "97       1.874159  \n",
       "230      1.767814  \n",
       "117      3.215154  \n",
       "78       2.580589  \n",
       "35       2.357716  \n",
       "212      2.482106  \n",
       "92       1.553275  \n",
       "60       1.879594  \n",
       "164      2.095699  \n",
       "195      2.544455  \n",
       "128      0.980003  \n",
       "185     -0.176271  \n",
       "36       2.034565  "
      ]
     },
     "execution_count": 163,
     "metadata": {},
     "output_type": "execute_result"
    }
   ],
   "source": [
    "Data.sort_values('Attractivite',ascending=False)[['Country Name','Attractivite','Internet_Users_norm', 'Population15to24_norm', 'Enrolment_Secondary_norm', 'Enrolment_Tertiary_norm', 'PIB_hab_norm']].iloc[:20]"
   ]
  }
 ],
 "metadata": {
  "kernelspec": {
   "display_name": "Python 3 (ipykernel)",
   "language": "python",
   "name": "python3"
  },
  "language_info": {
   "codemirror_mode": {
    "name": "ipython",
    "version": 3
   },
   "file_extension": ".py",
   "mimetype": "text/x-python",
   "name": "python",
   "nbconvert_exporter": "python",
   "pygments_lexer": "ipython3",
   "version": "3.11.3"
  }
 },
 "nbformat": 4,
 "nbformat_minor": 5
}
